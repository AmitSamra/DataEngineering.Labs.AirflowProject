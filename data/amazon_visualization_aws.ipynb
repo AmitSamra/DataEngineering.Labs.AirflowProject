{
 "cells": [
  {
   "cell_type": "code",
   "execution_count": 5,
   "metadata": {},
   "outputs": [],
   "source": [
    "import numpy as np\n",
    "import pandas as pd\n",
    "import matplotlib.pyplot as plt\n",
    "import datetime\n",
    "import seaborn as sns\n",
    "import os\n",
    "#pd.set_option('display.max_rows', 1000)"
   ]
  },
  {
   "cell_type": "code",
   "execution_count": 3,
   "metadata": {},
   "outputs": [
    {
     "name": "stdout",
     "output_type": "stream",
     "text": [
      "The dotenv extension is already loaded. To reload it, use:\n",
      "  %reload_ext dotenv\n"
     ]
    }
   ],
   "source": [
    "%load_ext dotenv\n",
    "%dotenv"
   ]
  },
  {
   "cell_type": "code",
   "execution_count": 6,
   "metadata": {},
   "outputs": [
    {
     "ename": "TypeError",
     "evalue": "can only concatenate str (not \"NoneType\") to str",
     "output_type": "error",
     "traceback": [
      "\u001b[0;31m---------------------------------------------------------------------------\u001b[0m",
      "\u001b[0;31mTypeError\u001b[0m                                 Traceback (most recent call last)",
      "\u001b[0;32m<ipython-input-6-53abef3803d3>\u001b[0m in \u001b[0;36m<module>\u001b[0;34m\u001b[0m\n\u001b[1;32m      1\u001b[0m \u001b[0;32mfrom\u001b[0m \u001b[0msqlalchemy\u001b[0m \u001b[0;32mimport\u001b[0m \u001b[0mcreate_engine\u001b[0m\u001b[0;34m\u001b[0m\u001b[0;34m\u001b[0m\u001b[0m\n\u001b[0;32m----> 2\u001b[0;31m \u001b[0mengine\u001b[0m \u001b[0;34m=\u001b[0m \u001b[0mcreate_engine\u001b[0m\u001b[0;34m(\u001b[0m\u001b[0;34m\"postgres://\"\u001b[0m \u001b[0;34m+\u001b[0m \u001b[0mos\u001b[0m\u001b[0;34m.\u001b[0m\u001b[0menviron\u001b[0m\u001b[0;34m.\u001b[0m\u001b[0mget\u001b[0m\u001b[0;34m(\u001b[0m\u001b[0;34m\"POSTGRES_USER\"\u001b[0m\u001b[0;34m)\u001b[0m \u001b[0;34m+\u001b[0m \u001b[0;34m\":\"\u001b[0m \u001b[0;34m+\u001b[0m \u001b[0mos\u001b[0m\u001b[0;34m.\u001b[0m\u001b[0menviron\u001b[0m\u001b[0;34m.\u001b[0m\u001b[0mget\u001b[0m\u001b[0;34m(\u001b[0m\u001b[0;34m\"POSTGRES_PASSWORD\"\u001b[0m\u001b[0;34m)\u001b[0m \u001b[0;34m+\u001b[0m \u001b[0;34m\"@\"\u001b[0m \u001b[0;34m+\u001b[0m \u001b[0;34m\"airflow-aws.coqoinqxklrf.us-east-1.rds.amazonaws.com:5432/postgres\"\u001b[0m\u001b[0;34m)\u001b[0m\u001b[0;34m\u001b[0m\u001b[0;34m\u001b[0m\u001b[0m\n\u001b[0m",
      "\u001b[0;31mTypeError\u001b[0m: can only concatenate str (not \"NoneType\") to str"
     ]
    }
   ],
   "source": [
    "from sqlalchemy import create_engine\n",
    "engine = create_engine(\"postgres://\" + os.environ.get(\"POSTGRES_USER\") + \":\" + os.environ.get(\"POSTGRES_PASSWORD\") + \"@\" + \"airflow-aws.coqoinqxklrf.us-east-1.rds.amazonaws.com:5432/postgres\")"
   ]
  },
  {
   "cell_type": "code",
   "execution_count": 79,
   "metadata": {},
   "outputs": [
    {
     "data": {
      "text/html": [
       "<div>\n",
       "<style scoped>\n",
       "    .dataframe tbody tr th:only-of-type {\n",
       "        vertical-align: middle;\n",
       "    }\n",
       "\n",
       "    .dataframe tbody tr th {\n",
       "        vertical-align: top;\n",
       "    }\n",
       "\n",
       "    .dataframe thead th {\n",
       "        text-align: right;\n",
       "    }\n",
       "</style>\n",
       "<table border=\"1\" class=\"dataframe\">\n",
       "  <thead>\n",
       "    <tr style=\"text-align: right;\">\n",
       "      <th></th>\n",
       "      <th>order_id</th>\n",
       "      <th>order_date</th>\n",
       "      <th>category</th>\n",
       "      <th>website</th>\n",
       "      <th>condition</th>\n",
       "      <th>seller</th>\n",
       "      <th>list_price_per_unit</th>\n",
       "      <th>purchase_price_per_unit</th>\n",
       "      <th>quantity</th>\n",
       "      <th>shipment_date</th>\n",
       "      <th>carrier_name</th>\n",
       "      <th>item_subtotal</th>\n",
       "      <th>item_subtotal_tax</th>\n",
       "      <th>item_total</th>\n",
       "    </tr>\n",
       "  </thead>\n",
       "  <tbody>\n",
       "    <tr>\n",
       "      <td>0</td>\n",
       "      <td>1</td>\n",
       "      <td>2008-02-19</td>\n",
       "      <td>BOOKS</td>\n",
       "      <td>Amazon.com</td>\n",
       "      <td>None</td>\n",
       "      <td>Amazon.com</td>\n",
       "      <td>29.99</td>\n",
       "      <td>19.79</td>\n",
       "      <td>1</td>\n",
       "      <td>2008-02-25</td>\n",
       "      <td>USPS</td>\n",
       "      <td>19.79</td>\n",
       "      <td>0.00</td>\n",
       "      <td>19.79</td>\n",
       "    </tr>\n",
       "    <tr>\n",
       "      <td>1</td>\n",
       "      <td>2</td>\n",
       "      <td>2008-02-19</td>\n",
       "      <td>BOOKS</td>\n",
       "      <td>Amazon.com</td>\n",
       "      <td>None</td>\n",
       "      <td>Amazon.com</td>\n",
       "      <td>27.95</td>\n",
       "      <td>18.45</td>\n",
       "      <td>1</td>\n",
       "      <td>2008-02-25</td>\n",
       "      <td>USPS</td>\n",
       "      <td>18.45</td>\n",
       "      <td>0.00</td>\n",
       "      <td>18.45</td>\n",
       "    </tr>\n",
       "    <tr>\n",
       "      <td>2</td>\n",
       "      <td>3</td>\n",
       "      <td>2008-06-03</td>\n",
       "      <td>BOOKS</td>\n",
       "      <td>Amazon.com</td>\n",
       "      <td>None</td>\n",
       "      <td>Amazon.com</td>\n",
       "      <td>34.99</td>\n",
       "      <td>23.09</td>\n",
       "      <td>1</td>\n",
       "      <td>2008-06-04</td>\n",
       "      <td>UPS</td>\n",
       "      <td>23.09</td>\n",
       "      <td>0.00</td>\n",
       "      <td>23.09</td>\n",
       "    </tr>\n",
       "    <tr>\n",
       "      <td>3</td>\n",
       "      <td>4</td>\n",
       "      <td>2008-11-06</td>\n",
       "      <td>HEALTH_BEAUTY</td>\n",
       "      <td>Amazon.com</td>\n",
       "      <td>None</td>\n",
       "      <td>SimplyBeautiful</td>\n",
       "      <td>6.99</td>\n",
       "      <td>9.39</td>\n",
       "      <td>1</td>\n",
       "      <td>2008-11-07</td>\n",
       "      <td>USPS</td>\n",
       "      <td>9.39</td>\n",
       "      <td>0.00</td>\n",
       "      <td>9.39</td>\n",
       "    </tr>\n",
       "    <tr>\n",
       "      <td>4</td>\n",
       "      <td>5</td>\n",
       "      <td>2008-11-06</td>\n",
       "      <td>HEALTH_BEAUTY</td>\n",
       "      <td>Amazon.com</td>\n",
       "      <td>None</td>\n",
       "      <td>SimplyBeautiful</td>\n",
       "      <td>10.99</td>\n",
       "      <td>7.99</td>\n",
       "      <td>1</td>\n",
       "      <td>2008-11-07</td>\n",
       "      <td>USPS</td>\n",
       "      <td>7.99</td>\n",
       "      <td>0.00</td>\n",
       "      <td>7.99</td>\n",
       "    </tr>\n",
       "    <tr>\n",
       "      <td>...</td>\n",
       "      <td>...</td>\n",
       "      <td>...</td>\n",
       "      <td>...</td>\n",
       "      <td>...</td>\n",
       "      <td>...</td>\n",
       "      <td>...</td>\n",
       "      <td>...</td>\n",
       "      <td>...</td>\n",
       "      <td>...</td>\n",
       "      <td>...</td>\n",
       "      <td>...</td>\n",
       "      <td>...</td>\n",
       "      <td>...</td>\n",
       "      <td>...</td>\n",
       "    </tr>\n",
       "    <tr>\n",
       "      <td>778</td>\n",
       "      <td>972</td>\n",
       "      <td>2019-12-18</td>\n",
       "      <td>OTHER</td>\n",
       "      <td>Amazon.com</td>\n",
       "      <td>new</td>\n",
       "      <td>TORRAS¬Æ</td>\n",
       "      <td>27.00</td>\n",
       "      <td>12.99</td>\n",
       "      <td>1</td>\n",
       "      <td>2019-12-19</td>\n",
       "      <td>AMZN_US</td>\n",
       "      <td>12.99</td>\n",
       "      <td>0.86</td>\n",
       "      <td>13.85</td>\n",
       "    </tr>\n",
       "    <tr>\n",
       "      <td>779</td>\n",
       "      <td>973</td>\n",
       "      <td>2019-12-19</td>\n",
       "      <td>GIFT_CARD</td>\n",
       "      <td>Amazon.com</td>\n",
       "      <td>new</td>\n",
       "      <td>Amazon.com</td>\n",
       "      <td>50.00</td>\n",
       "      <td>200.00</td>\n",
       "      <td>1</td>\n",
       "      <td>2019-12-19</td>\n",
       "      <td>None</td>\n",
       "      <td>200.00</td>\n",
       "      <td>0.00</td>\n",
       "      <td>200.00</td>\n",
       "    </tr>\n",
       "    <tr>\n",
       "      <td>780</td>\n",
       "      <td>974</td>\n",
       "      <td>2019-12-24</td>\n",
       "      <td>HEALTH_BEAUTY</td>\n",
       "      <td>Amazon.com</td>\n",
       "      <td>new</td>\n",
       "      <td>Amazon.com</td>\n",
       "      <td>24.99</td>\n",
       "      <td>13.59</td>\n",
       "      <td>2</td>\n",
       "      <td>2019-12-26</td>\n",
       "      <td>AMZN_US</td>\n",
       "      <td>27.18</td>\n",
       "      <td>0.00</td>\n",
       "      <td>27.18</td>\n",
       "    </tr>\n",
       "    <tr>\n",
       "      <td>781</td>\n",
       "      <td>976</td>\n",
       "      <td>2020-01-01</td>\n",
       "      <td>HEALTH_BEAUTY</td>\n",
       "      <td>Amazon.com</td>\n",
       "      <td>new</td>\n",
       "      <td>Amazon.com</td>\n",
       "      <td>12.13</td>\n",
       "      <td>11.98</td>\n",
       "      <td>2</td>\n",
       "      <td>2020-01-03</td>\n",
       "      <td>AMZN_US</td>\n",
       "      <td>23.96</td>\n",
       "      <td>1.58</td>\n",
       "      <td>25.54</td>\n",
       "    </tr>\n",
       "    <tr>\n",
       "      <td>782</td>\n",
       "      <td>977</td>\n",
       "      <td>2020-01-01</td>\n",
       "      <td>HEALTH_BEAUTY</td>\n",
       "      <td>Amazon.com</td>\n",
       "      <td>new</td>\n",
       "      <td>Amazon.com</td>\n",
       "      <td>24.50</td>\n",
       "      <td>8.87</td>\n",
       "      <td>1</td>\n",
       "      <td>2020-01-02</td>\n",
       "      <td>USPS</td>\n",
       "      <td>8.87</td>\n",
       "      <td>0.00</td>\n",
       "      <td>8.87</td>\n",
       "    </tr>\n",
       "  </tbody>\n",
       "</table>\n",
       "<p>783 rows × 14 columns</p>\n",
       "</div>"
      ],
      "text/plain": [
       "     order_id  order_date       category     website condition  \\\n",
       "0           1  2008-02-19          BOOKS  Amazon.com      None   \n",
       "1           2  2008-02-19          BOOKS  Amazon.com      None   \n",
       "2           3  2008-06-03          BOOKS  Amazon.com      None   \n",
       "3           4  2008-11-06  HEALTH_BEAUTY  Amazon.com      None   \n",
       "4           5  2008-11-06  HEALTH_BEAUTY  Amazon.com      None   \n",
       "..        ...         ...            ...         ...       ...   \n",
       "778       972  2019-12-18          OTHER  Amazon.com       new   \n",
       "779       973  2019-12-19      GIFT_CARD  Amazon.com       new   \n",
       "780       974  2019-12-24  HEALTH_BEAUTY  Amazon.com       new   \n",
       "781       976  2020-01-01  HEALTH_BEAUTY  Amazon.com       new   \n",
       "782       977  2020-01-01  HEALTH_BEAUTY  Amazon.com       new   \n",
       "\n",
       "              seller  list_price_per_unit  purchase_price_per_unit  quantity  \\\n",
       "0         Amazon.com                29.99                    19.79         1   \n",
       "1         Amazon.com                27.95                    18.45         1   \n",
       "2         Amazon.com                34.99                    23.09         1   \n",
       "3    SimplyBeautiful                 6.99                     9.39         1   \n",
       "4    SimplyBeautiful                10.99                     7.99         1   \n",
       "..               ...                  ...                      ...       ...   \n",
       "778         TORRAS¬Æ                27.00                    12.99         1   \n",
       "779       Amazon.com                50.00                   200.00         1   \n",
       "780       Amazon.com                24.99                    13.59         2   \n",
       "781       Amazon.com                12.13                    11.98         2   \n",
       "782       Amazon.com                24.50                     8.87         1   \n",
       "\n",
       "    shipment_date carrier_name  item_subtotal  item_subtotal_tax  item_total  \n",
       "0      2008-02-25         USPS          19.79               0.00       19.79  \n",
       "1      2008-02-25         USPS          18.45               0.00       18.45  \n",
       "2      2008-06-04          UPS          23.09               0.00       23.09  \n",
       "3      2008-11-07         USPS           9.39               0.00        9.39  \n",
       "4      2008-11-07         USPS           7.99               0.00        7.99  \n",
       "..            ...          ...            ...                ...         ...  \n",
       "778    2019-12-19      AMZN_US          12.99               0.86       13.85  \n",
       "779    2019-12-19         None         200.00               0.00      200.00  \n",
       "780    2019-12-26      AMZN_US          27.18               0.00       27.18  \n",
       "781    2020-01-03      AMZN_US          23.96               1.58       25.54  \n",
       "782    2020-01-02         USPS           8.87               0.00        8.87  \n",
       "\n",
       "[783 rows x 14 columns]"
      ]
     },
     "execution_count": 79,
     "metadata": {},
     "output_type": "execute_result"
    }
   ],
   "source": [
    "df = pd.read_sql('select * from amazon.amazon_purchases', con=engine)\n",
    "df"
   ]
  },
  {
   "cell_type": "code",
   "execution_count": 80,
   "metadata": {},
   "outputs": [
    {
     "data": {
      "text/plain": [
       "order_id                     int64\n",
       "order_date                  object\n",
       "category                    object\n",
       "website                     object\n",
       "condition                   object\n",
       "seller                      object\n",
       "list_price_per_unit        float64\n",
       "purchase_price_per_unit    float64\n",
       "quantity                     int64\n",
       "shipment_date               object\n",
       "carrier_name                object\n",
       "item_subtotal              float64\n",
       "item_subtotal_tax          float64\n",
       "item_total                 float64\n",
       "dtype: object"
      ]
     },
     "execution_count": 80,
     "metadata": {},
     "output_type": "execute_result"
    }
   ],
   "source": [
    "df.dtypes"
   ]
  },
  {
   "cell_type": "code",
   "execution_count": 81,
   "metadata": {},
   "outputs": [],
   "source": [
    "# Rename columns\n",
    "df.columns = ['order_id', 'order_date', 'category', 'website', 'condition', 'seller', 'list_price_per_unit', 'purchase_price_per_unit', 'quantity', 'shipment_date', 'carrier_name', 'item_subtotal', 'item_subtotal_tax','item_total']"
   ]
  },
  {
   "cell_type": "code",
   "execution_count": 82,
   "metadata": {},
   "outputs": [],
   "source": [
    "# Change date columns from string/object to datetime\n",
    "df['order_date'] = pd.to_datetime(df['order_date'])\n",
    "df['shipment_date'] = pd.to_datetime(df['shipment_date'])"
   ]
  },
  {
   "cell_type": "code",
   "execution_count": 83,
   "metadata": {},
   "outputs": [
    {
     "data": {
      "text/html": [
       "<div>\n",
       "<style scoped>\n",
       "    .dataframe tbody tr th:only-of-type {\n",
       "        vertical-align: middle;\n",
       "    }\n",
       "\n",
       "    .dataframe tbody tr th {\n",
       "        vertical-align: top;\n",
       "    }\n",
       "\n",
       "    .dataframe thead th {\n",
       "        text-align: right;\n",
       "    }\n",
       "</style>\n",
       "<table border=\"1\" class=\"dataframe\">\n",
       "  <thead>\n",
       "    <tr style=\"text-align: right;\">\n",
       "      <th></th>\n",
       "      <th>order_id</th>\n",
       "      <th>order_date</th>\n",
       "      <th>category</th>\n",
       "      <th>website</th>\n",
       "      <th>condition</th>\n",
       "      <th>seller</th>\n",
       "      <th>list_price_per_unit</th>\n",
       "      <th>purchase_price_per_unit</th>\n",
       "      <th>quantity</th>\n",
       "      <th>shipment_date</th>\n",
       "      <th>carrier_name</th>\n",
       "      <th>item_subtotal</th>\n",
       "      <th>item_subtotal_tax</th>\n",
       "      <th>item_total</th>\n",
       "    </tr>\n",
       "  </thead>\n",
       "  <tbody>\n",
       "    <tr>\n",
       "      <td>0</td>\n",
       "      <td>1</td>\n",
       "      <td>2008-02-19</td>\n",
       "      <td>BOOKS</td>\n",
       "      <td>Amazon.com</td>\n",
       "      <td>None</td>\n",
       "      <td>Amazon.com</td>\n",
       "      <td>29.99</td>\n",
       "      <td>19.79</td>\n",
       "      <td>1</td>\n",
       "      <td>2008-02-25</td>\n",
       "      <td>USPS</td>\n",
       "      <td>19.79</td>\n",
       "      <td>0.00</td>\n",
       "      <td>19.79</td>\n",
       "    </tr>\n",
       "    <tr>\n",
       "      <td>1</td>\n",
       "      <td>2</td>\n",
       "      <td>2008-02-19</td>\n",
       "      <td>BOOKS</td>\n",
       "      <td>Amazon.com</td>\n",
       "      <td>None</td>\n",
       "      <td>Amazon.com</td>\n",
       "      <td>27.95</td>\n",
       "      <td>18.45</td>\n",
       "      <td>1</td>\n",
       "      <td>2008-02-25</td>\n",
       "      <td>USPS</td>\n",
       "      <td>18.45</td>\n",
       "      <td>0.00</td>\n",
       "      <td>18.45</td>\n",
       "    </tr>\n",
       "    <tr>\n",
       "      <td>2</td>\n",
       "      <td>3</td>\n",
       "      <td>2008-06-03</td>\n",
       "      <td>BOOKS</td>\n",
       "      <td>Amazon.com</td>\n",
       "      <td>None</td>\n",
       "      <td>Amazon.com</td>\n",
       "      <td>34.99</td>\n",
       "      <td>23.09</td>\n",
       "      <td>1</td>\n",
       "      <td>2008-06-04</td>\n",
       "      <td>UPS</td>\n",
       "      <td>23.09</td>\n",
       "      <td>0.00</td>\n",
       "      <td>23.09</td>\n",
       "    </tr>\n",
       "    <tr>\n",
       "      <td>3</td>\n",
       "      <td>4</td>\n",
       "      <td>2008-11-06</td>\n",
       "      <td>HEALTH_BEAUTY</td>\n",
       "      <td>Amazon.com</td>\n",
       "      <td>None</td>\n",
       "      <td>SimplyBeautiful</td>\n",
       "      <td>6.99</td>\n",
       "      <td>9.39</td>\n",
       "      <td>1</td>\n",
       "      <td>2008-11-07</td>\n",
       "      <td>USPS</td>\n",
       "      <td>9.39</td>\n",
       "      <td>0.00</td>\n",
       "      <td>9.39</td>\n",
       "    </tr>\n",
       "    <tr>\n",
       "      <td>4</td>\n",
       "      <td>5</td>\n",
       "      <td>2008-11-06</td>\n",
       "      <td>HEALTH_BEAUTY</td>\n",
       "      <td>Amazon.com</td>\n",
       "      <td>None</td>\n",
       "      <td>SimplyBeautiful</td>\n",
       "      <td>10.99</td>\n",
       "      <td>7.99</td>\n",
       "      <td>1</td>\n",
       "      <td>2008-11-07</td>\n",
       "      <td>USPS</td>\n",
       "      <td>7.99</td>\n",
       "      <td>0.00</td>\n",
       "      <td>7.99</td>\n",
       "    </tr>\n",
       "    <tr>\n",
       "      <td>...</td>\n",
       "      <td>...</td>\n",
       "      <td>...</td>\n",
       "      <td>...</td>\n",
       "      <td>...</td>\n",
       "      <td>...</td>\n",
       "      <td>...</td>\n",
       "      <td>...</td>\n",
       "      <td>...</td>\n",
       "      <td>...</td>\n",
       "      <td>...</td>\n",
       "      <td>...</td>\n",
       "      <td>...</td>\n",
       "      <td>...</td>\n",
       "      <td>...</td>\n",
       "    </tr>\n",
       "    <tr>\n",
       "      <td>778</td>\n",
       "      <td>972</td>\n",
       "      <td>2019-12-18</td>\n",
       "      <td>OTHER</td>\n",
       "      <td>Amazon.com</td>\n",
       "      <td>new</td>\n",
       "      <td>TORRAS¬Æ</td>\n",
       "      <td>27.00</td>\n",
       "      <td>12.99</td>\n",
       "      <td>1</td>\n",
       "      <td>2019-12-19</td>\n",
       "      <td>AMZN_US</td>\n",
       "      <td>12.99</td>\n",
       "      <td>0.86</td>\n",
       "      <td>13.85</td>\n",
       "    </tr>\n",
       "    <tr>\n",
       "      <td>779</td>\n",
       "      <td>973</td>\n",
       "      <td>2019-12-19</td>\n",
       "      <td>GIFT_CARD</td>\n",
       "      <td>Amazon.com</td>\n",
       "      <td>new</td>\n",
       "      <td>Amazon.com</td>\n",
       "      <td>50.00</td>\n",
       "      <td>200.00</td>\n",
       "      <td>1</td>\n",
       "      <td>2019-12-19</td>\n",
       "      <td>None</td>\n",
       "      <td>200.00</td>\n",
       "      <td>0.00</td>\n",
       "      <td>200.00</td>\n",
       "    </tr>\n",
       "    <tr>\n",
       "      <td>780</td>\n",
       "      <td>974</td>\n",
       "      <td>2019-12-24</td>\n",
       "      <td>HEALTH_BEAUTY</td>\n",
       "      <td>Amazon.com</td>\n",
       "      <td>new</td>\n",
       "      <td>Amazon.com</td>\n",
       "      <td>24.99</td>\n",
       "      <td>13.59</td>\n",
       "      <td>2</td>\n",
       "      <td>2019-12-26</td>\n",
       "      <td>AMZN_US</td>\n",
       "      <td>27.18</td>\n",
       "      <td>0.00</td>\n",
       "      <td>27.18</td>\n",
       "    </tr>\n",
       "    <tr>\n",
       "      <td>781</td>\n",
       "      <td>976</td>\n",
       "      <td>2020-01-01</td>\n",
       "      <td>HEALTH_BEAUTY</td>\n",
       "      <td>Amazon.com</td>\n",
       "      <td>new</td>\n",
       "      <td>Amazon.com</td>\n",
       "      <td>12.13</td>\n",
       "      <td>11.98</td>\n",
       "      <td>2</td>\n",
       "      <td>2020-01-03</td>\n",
       "      <td>AMZN_US</td>\n",
       "      <td>23.96</td>\n",
       "      <td>1.58</td>\n",
       "      <td>25.54</td>\n",
       "    </tr>\n",
       "    <tr>\n",
       "      <td>782</td>\n",
       "      <td>977</td>\n",
       "      <td>2020-01-01</td>\n",
       "      <td>HEALTH_BEAUTY</td>\n",
       "      <td>Amazon.com</td>\n",
       "      <td>new</td>\n",
       "      <td>Amazon.com</td>\n",
       "      <td>24.50</td>\n",
       "      <td>8.87</td>\n",
       "      <td>1</td>\n",
       "      <td>2020-01-02</td>\n",
       "      <td>USPS</td>\n",
       "      <td>8.87</td>\n",
       "      <td>0.00</td>\n",
       "      <td>8.87</td>\n",
       "    </tr>\n",
       "  </tbody>\n",
       "</table>\n",
       "<p>783 rows × 14 columns</p>\n",
       "</div>"
      ],
      "text/plain": [
       "     order_id order_date       category     website condition  \\\n",
       "0           1 2008-02-19          BOOKS  Amazon.com      None   \n",
       "1           2 2008-02-19          BOOKS  Amazon.com      None   \n",
       "2           3 2008-06-03          BOOKS  Amazon.com      None   \n",
       "3           4 2008-11-06  HEALTH_BEAUTY  Amazon.com      None   \n",
       "4           5 2008-11-06  HEALTH_BEAUTY  Amazon.com      None   \n",
       "..        ...        ...            ...         ...       ...   \n",
       "778       972 2019-12-18          OTHER  Amazon.com       new   \n",
       "779       973 2019-12-19      GIFT_CARD  Amazon.com       new   \n",
       "780       974 2019-12-24  HEALTH_BEAUTY  Amazon.com       new   \n",
       "781       976 2020-01-01  HEALTH_BEAUTY  Amazon.com       new   \n",
       "782       977 2020-01-01  HEALTH_BEAUTY  Amazon.com       new   \n",
       "\n",
       "              seller  list_price_per_unit  purchase_price_per_unit  quantity  \\\n",
       "0         Amazon.com                29.99                    19.79         1   \n",
       "1         Amazon.com                27.95                    18.45         1   \n",
       "2         Amazon.com                34.99                    23.09         1   \n",
       "3    SimplyBeautiful                 6.99                     9.39         1   \n",
       "4    SimplyBeautiful                10.99                     7.99         1   \n",
       "..               ...                  ...                      ...       ...   \n",
       "778         TORRAS¬Æ                27.00                    12.99         1   \n",
       "779       Amazon.com                50.00                   200.00         1   \n",
       "780       Amazon.com                24.99                    13.59         2   \n",
       "781       Amazon.com                12.13                    11.98         2   \n",
       "782       Amazon.com                24.50                     8.87         1   \n",
       "\n",
       "    shipment_date carrier_name  item_subtotal  item_subtotal_tax  item_total  \n",
       "0      2008-02-25         USPS          19.79               0.00       19.79  \n",
       "1      2008-02-25         USPS          18.45               0.00       18.45  \n",
       "2      2008-06-04          UPS          23.09               0.00       23.09  \n",
       "3      2008-11-07         USPS           9.39               0.00        9.39  \n",
       "4      2008-11-07         USPS           7.99               0.00        7.99  \n",
       "..            ...          ...            ...                ...         ...  \n",
       "778    2019-12-19      AMZN_US          12.99               0.86       13.85  \n",
       "779    2019-12-19         None         200.00               0.00      200.00  \n",
       "780    2019-12-26      AMZN_US          27.18               0.00       27.18  \n",
       "781    2020-01-03      AMZN_US          23.96               1.58       25.54  \n",
       "782    2020-01-02         USPS           8.87               0.00        8.87  \n",
       "\n",
       "[783 rows x 14 columns]"
      ]
     },
     "execution_count": 83,
     "metadata": {},
     "output_type": "execute_result"
    }
   ],
   "source": [
    "df"
   ]
  },
  {
   "cell_type": "code",
   "execution_count": 84,
   "metadata": {},
   "outputs": [
    {
     "data": {
      "text/plain": [
       "order_id                            int64\n",
       "order_date                 datetime64[ns]\n",
       "category                           object\n",
       "website                            object\n",
       "condition                          object\n",
       "seller                             object\n",
       "list_price_per_unit               float64\n",
       "purchase_price_per_unit           float64\n",
       "quantity                            int64\n",
       "shipment_date              datetime64[ns]\n",
       "carrier_name                       object\n",
       "item_subtotal                     float64\n",
       "item_subtotal_tax                 float64\n",
       "item_total                        float64\n",
       "dtype: object"
      ]
     },
     "execution_count": 84,
     "metadata": {},
     "output_type": "execute_result"
    }
   ],
   "source": [
    "df.dtypes"
   ]
  },
  {
   "cell_type": "markdown",
   "metadata": {},
   "source": [
    "# The following exercises will be done using SQL simply to demonstrate Postgres integration"
   ]
  },
  {
   "cell_type": "code",
   "execution_count": 85,
   "metadata": {},
   "outputs": [],
   "source": [
    "# Needed to connect Python to Postgres\n",
    "connection = engine.connect()"
   ]
  },
  {
   "cell_type": "markdown",
   "metadata": {},
   "source": [
    "### Total Spend 2008 - 2019"
   ]
  },
  {
   "cell_type": "code",
   "execution_count": 86,
   "metadata": {},
   "outputs": [],
   "source": [
    "# Needed for every SQL query\n",
    "con_total_spend = connection.execute('SELECT round(sum(item_total)) FROM amazon.amazon_purchases')"
   ]
  },
  {
   "cell_type": "code",
   "execution_count": 87,
   "metadata": {
    "scrolled": true
   },
   "outputs": [
    {
     "data": {
      "text/html": [
       "<div>\n",
       "<style scoped>\n",
       "    .dataframe tbody tr th:only-of-type {\n",
       "        vertical-align: middle;\n",
       "    }\n",
       "\n",
       "    .dataframe tbody tr th {\n",
       "        vertical-align: top;\n",
       "    }\n",
       "\n",
       "    .dataframe thead th {\n",
       "        text-align: right;\n",
       "    }\n",
       "</style>\n",
       "<table border=\"1\" class=\"dataframe\">\n",
       "  <thead>\n",
       "    <tr style=\"text-align: right;\">\n",
       "      <th></th>\n",
       "      <th>Total Spend 2008/01 - 2019/12</th>\n",
       "    </tr>\n",
       "  </thead>\n",
       "  <tbody>\n",
       "    <tr>\n",
       "      <td>0</td>\n",
       "      <td>30392</td>\n",
       "    </tr>\n",
       "  </tbody>\n",
       "</table>\n",
       "</div>"
      ],
      "text/plain": [
       "  Total Spend 2008/01 - 2019/12\n",
       "0                         30392"
      ]
     },
     "execution_count": 87,
     "metadata": {},
     "output_type": "execute_result"
    }
   ],
   "source": [
    "data_con_total_spend = [row for row in con_total_spend]\n",
    "df_con_total_spend = pd.DataFrame.from_records(data_con_total_spend)\n",
    "df_con_total_spend.columns = ['Total Spend 2008/01 - 2019/12']\n",
    "df_con_total_spend"
   ]
  },
  {
   "cell_type": "code",
   "execution_count": 88,
   "metadata": {},
   "outputs": [],
   "source": [
    "con_avg_spend = connection.execute('SELECT round(avg(item_total)) FROM amazon.amazon_purchases')"
   ]
  },
  {
   "cell_type": "code",
   "execution_count": 89,
   "metadata": {},
   "outputs": [
    {
     "data": {
      "text/html": [
       "<div>\n",
       "<style scoped>\n",
       "    .dataframe tbody tr th:only-of-type {\n",
       "        vertical-align: middle;\n",
       "    }\n",
       "\n",
       "    .dataframe tbody tr th {\n",
       "        vertical-align: top;\n",
       "    }\n",
       "\n",
       "    .dataframe thead th {\n",
       "        text-align: right;\n",
       "    }\n",
       "</style>\n",
       "<table border=\"1\" class=\"dataframe\">\n",
       "  <thead>\n",
       "    <tr style=\"text-align: right;\">\n",
       "      <th></th>\n",
       "      <th>Average Spend 2008/01 - 2019/12</th>\n",
       "    </tr>\n",
       "  </thead>\n",
       "  <tbody>\n",
       "    <tr>\n",
       "      <td>0</td>\n",
       "      <td>39</td>\n",
       "    </tr>\n",
       "  </tbody>\n",
       "</table>\n",
       "</div>"
      ],
      "text/plain": [
       "  Average Spend 2008/01 - 2019/12\n",
       "0                              39"
      ]
     },
     "execution_count": 89,
     "metadata": {},
     "output_type": "execute_result"
    }
   ],
   "source": [
    "data_con_avg_spend = [row for row in con_avg_spend]\n",
    "df_con_avg_spend = pd.DataFrame.from_records(data_con_avg_spend)\n",
    "df_con_avg_spend.columns = ['Average Spend 2008/01 - 2019/12']\n",
    "df_con_avg_spend"
   ]
  },
  {
   "cell_type": "markdown",
   "metadata": {},
   "source": [
    "### Total Spend by Year"
   ]
  },
  {
   "cell_type": "code",
   "execution_count": 90,
   "metadata": {},
   "outputs": [],
   "source": [
    "con_total_spend_yr = connection.execute('''\n",
    "SELECT extract(year from order_date), round(sum(item_total))\n",
    "FROM amazon.amazon_purchases\n",
    "GROUP BY extract(year from order_date)\n",
    "ORDER BY extract(year from order_date)\n",
    "''')\n",
    "                                        \n",
    "data_con_total_spend_yr = [row for row in con_total_spend_yr]\n",
    "df_con_total_spend_yr = pd.DataFrame.from_records(data_con_total_spend_yr)\n",
    "df_con_total_spend_yr.columns = ['Year','Annual Total Spend']\n",
    "#df_con_total_spend_yr['Year'] = pd.to_datetime(df_con_total_spend_yr['Year'], format=\"%Y\")\n",
    "df_con_total_spend_yr['Year'] = df_con_total_spend_yr['Year'].astype(int)\n",
    "df_con_total_spend_yr['Annual Total Spend'] = df_con_total_spend_yr['Annual Total Spend'].astype(int)\n",
    "#df_con_total_spend_yr"
   ]
  },
  {
   "cell_type": "code",
   "execution_count": 91,
   "metadata": {},
   "outputs": [],
   "source": [
    "#df_con_total_spend_yr.dtypes"
   ]
  },
  {
   "cell_type": "code",
   "execution_count": 92,
   "metadata": {},
   "outputs": [
    {
     "data": {
      "image/png": "[encoded data removed]",
      "text/plain": [
       "<Figure size 432x288 with 1 Axes>"
      ]
     },
     "metadata": {
      "needs_background": "light"
     },
     "output_type": "display_data"
    }
   ],
   "source": [
    "plot_df_con_total_spend_yr = df_con_total_spend_yr.plot.bar(x=0, y=1, rot = 90)\n",
    "plt.savefig('ann_tot_spend.png')\n",
    "ann_tot_spend = 'ann_tot_spend.png'"
   ]
  },
  {
   "cell_type": "markdown",
   "metadata": {},
   "source": [
    "### Total Spend by Category"
   ]
  },
  {
   "cell_type": "code",
   "execution_count": 93,
   "metadata": {},
   "outputs": [],
   "source": [
    "con_total_spend_cat = connection.execute('''\n",
    "SELECT category, round(sum(item_total))\n",
    "FROM amazon.amazon_purchases\n",
    "GROUP BY category\n",
    "ORDER BY sum(item_total) desc\n",
    "''')\n",
    "                                        \n",
    "data_con_total_spend_cat = [row for row in con_total_spend_cat]\n",
    "df_con_total_spend_cat = pd.DataFrame.from_records(data_con_total_spend_cat)\n",
    "df_con_total_spend_cat.columns = ['Category','Total Spend']\n",
    "df_con_total_spend_cat['Total Spend'] = df_con_total_spend_cat['Total Spend'].astype(int)\n",
    "#df_con_total_spend_cat"
   ]
  },
  {
   "cell_type": "code",
   "execution_count": 94,
   "metadata": {
    "scrolled": false
   },
   "outputs": [
    {
     "data": {
      "image/png": "[encoded data removed]",
      "text/plain": [
       "<Figure size 432x288 with 1 Axes>"
      ]
     },
     "metadata": {
      "needs_background": "light"
     },
     "output_type": "display_data"
    }
   ],
   "source": [
    "plot_df_con_total_spend_cat = df_con_total_spend_cat.plot.bar(x=0, y=1, rot = 90)\n",
    "plt.savefig('cat_tot_spend.png')\n",
    "cat_tot_spend = 'cat_tot_spend.png'"
   ]
  },
  {
   "cell_type": "code",
   "execution_count": 95,
   "metadata": {},
   "outputs": [
    {
     "data": {
      "text/html": [
       "<div>\n",
       "<style scoped>\n",
       "    .dataframe tbody tr th:only-of-type {\n",
       "        vertical-align: middle;\n",
       "    }\n",
       "\n",
       "    .dataframe tbody tr th {\n",
       "        vertical-align: top;\n",
       "    }\n",
       "\n",
       "    .dataframe thead th {\n",
       "        text-align: right;\n",
       "    }\n",
       "</style>\n",
       "<table border=\"1\" class=\"dataframe\">\n",
       "  <thead>\n",
       "    <tr style=\"text-align: right;\">\n",
       "      <th></th>\n",
       "      <th>Transactions</th>\n",
       "    </tr>\n",
       "    <tr>\n",
       "      <th>Seller</th>\n",
       "      <th></th>\n",
       "    </tr>\n",
       "  </thead>\n",
       "  <tbody>\n",
       "    <tr>\n",
       "      <td>Amazon.com</td>\n",
       "      <td>454</td>\n",
       "    </tr>\n",
       "    <tr>\n",
       "      <td>Other</td>\n",
       "      <td>318</td>\n",
       "    </tr>\n",
       "  </tbody>\n",
       "</table>\n",
       "</div>"
      ],
      "text/plain": [
       "            Transactions\n",
       "Seller                  \n",
       "Amazon.com           454\n",
       "Other                318"
      ]
     },
     "execution_count": 95,
     "metadata": {},
     "output_type": "execute_result"
    }
   ],
   "source": [
    "con_seller_share = connection.execute('''\n",
    "(SELECT seller, count(*) \n",
    "FROM amazon.amazon_purchases\n",
    "WHERE seller = 'Amazon.com'\n",
    "GROUP BY seller)\n",
    "UNION ALL\n",
    "SELECT 'Other', count(*)\n",
    "FROM amazon.amazon_purchases\n",
    "WHERE seller != 'Amazon.com'\n",
    "''')\n",
    "                                        \n",
    "data_con_seller_share = [row for row in con_seller_share]\n",
    "df_con_seller_share = pd.DataFrame.from_records(data_con_seller_share)\n",
    "df_con_seller_share.columns = ['Seller','Transactions']\n",
    "df_con_seller_share.set_index('Seller',inplace=True)\n",
    "df_con_seller_share"
   ]
  },
  {
   "cell_type": "code",
   "execution_count": 96,
   "metadata": {
    "scrolled": true
   },
   "outputs": [
    {
     "data": {
      "image/png": "[encoded data removed]",
      "text/plain": [
       "<Figure size 432x288 with 1 Axes>"
      ]
     },
     "metadata": {},
     "output_type": "display_data"
    }
   ],
   "source": [
    "df_con_seller_share.plot(kind='pie', x=0, y=0)\n",
    "plt.title('Number of Transactions')\n",
    "labels = ['Amazon','Other']\n"
   ]
  },
  {
   "cell_type": "code",
   "execution_count": 97,
   "metadata": {},
   "outputs": [
    {
     "data": {
      "text/plain": [
       "<matplotlib.axes._subplots.AxesSubplot at 0x1a1eee9410>"
      ]
     },
     "execution_count": 97,
     "metadata": {},
     "output_type": "execute_result"
    },
    {
     "data": {
      "image/png": "[encoded data removed]",
      "text/plain": [
       "<Figure size 432x288 with 1 Axes>"
      ]
     },
     "metadata": {},
     "output_type": "display_data"
    }
   ],
   "source": [
    "df['seller'].value_counts().plot(kind='pie')"
   ]
  },
  {
   "cell_type": "code",
   "execution_count": 98,
   "metadata": {},
   "outputs": [
    {
     "data": {
      "text/plain": [
       "Amazon.com              454\n",
       "Dr. Price's Vitamins      7\n",
       "Wellica Inc               7\n",
       "Cable Matters             5\n",
       "Creative Square           5\n",
       "                       ... \n",
       "Best Nest Wellness        1\n",
       "Spotless Lens             1\n",
       "MKOAWA                    1\n",
       "Book_Holders              1\n",
       "BlueRigger                1\n",
       "Name: seller, Length: 226, dtype: int64"
      ]
     },
     "execution_count": 98,
     "metadata": {},
     "output_type": "execute_result"
    }
   ],
   "source": [
    "df['seller'].value_counts()"
   ]
  },
  {
   "cell_type": "code",
   "execution_count": 99,
   "metadata": {},
   "outputs": [
    {
     "data": {
      "image/png": "[encoded data removed]",
      "text/plain": [
       "<Figure size 432x288 with 1 Axes>"
      ]
     },
     "metadata": {},
     "output_type": "display_data"
    }
   ],
   "source": [
    "df['seller'].eq('Amazon.com').value_counts(normalize=True).plot.pie(labels=['Amazon','Other'], autopct='%.2f')\n",
    "plt.savefig('pie_seller.png')\n",
    "pie_seller = 'pie_seller.png'"
   ]
  },
  {
   "cell_type": "code",
   "execution_count": 100,
   "metadata": {},
   "outputs": [
    {
     "data": {
      "text/plain": [
       "<matplotlib.axes._subplots.AxesSubplot at 0x1a1d606050>"
      ]
     },
     "execution_count": 100,
     "metadata": {},
     "output_type": "execute_result"
    },
    {
     "data": {
      "image/png": "[encoded data removed]",
      "text/plain": [
       "<Figure size 432x288 with 1 Axes>"
      ]
     },
     "metadata": {},
     "output_type": "display_data"
    }
   ],
   "source": [
    "df['seller'].apply(lambda x:x if x=='Amazon.com' else 'Other').value_counts().plot(kind='pie')"
   ]
  },
  {
   "cell_type": "markdown",
   "metadata": {},
   "source": [
    "### Carriers"
   ]
  },
  {
   "cell_type": "code",
   "execution_count": 101,
   "metadata": {},
   "outputs": [],
   "source": [
    "con_car = connection.execute('''\n",
    "SELECT carrier_name, count(*)\n",
    "FROM amazon.amazon_purchases\n",
    "GROUP BY carrier_name\n",
    "ORDER BY count desc\n",
    "LIMIT 10\n",
    "''')\n",
    "                                        \n",
    "data_con_car = [row for row in con_car]\n",
    "df_con_car = pd.DataFrame.from_records(data_con_car)\n",
    "df_con_car.columns = ['Carrier','Number of Shipments']\n",
    "#df_con_car"
   ]
  },
  {
   "cell_type": "code",
   "execution_count": 102,
   "metadata": {},
   "outputs": [
    {
     "data": {
      "image/png": "[encoded data removed]",
      "text/plain": [
       "<Figure size 432x288 with 1 Axes>"
      ]
     },
     "metadata": {
      "needs_background": "light"
     },
     "output_type": "display_data"
    }
   ],
   "source": [
    "plot_df_con_car = df_con_car.plot.bar(x=0, y=1, rot = 90)\n",
    "plt.savefig('carrier_num.png')\n",
    "carrier_num = 'carrier_num.png'"
   ]
  },
  {
   "cell_type": "code",
   "execution_count": 103,
   "metadata": {
    "scrolled": true
   },
   "outputs": [
    {
     "data": {
      "text/html": [
       "<div>\n",
       "<style scoped>\n",
       "    .dataframe tbody tr th:only-of-type {\n",
       "        vertical-align: middle;\n",
       "    }\n",
       "\n",
       "    .dataframe tbody tr th {\n",
       "        vertical-align: top;\n",
       "    }\n",
       "\n",
       "    .dataframe thead th {\n",
       "        text-align: right;\n",
       "    }\n",
       "</style>\n",
       "<table border=\"1\" class=\"dataframe\">\n",
       "  <thead>\n",
       "    <tr style=\"text-align: right;\">\n",
       "      <th></th>\n",
       "      <th>Carrier</th>\n",
       "      <th>Average Price of Item</th>\n",
       "    </tr>\n",
       "  </thead>\n",
       "  <tbody>\n",
       "    <tr>\n",
       "      <td>0</td>\n",
       "      <td>FedEx</td>\n",
       "      <td>89</td>\n",
       "    </tr>\n",
       "    <tr>\n",
       "      <td>1</td>\n",
       "      <td>UPS</td>\n",
       "      <td>64</td>\n",
       "    </tr>\n",
       "    <tr>\n",
       "      <td>2</td>\n",
       "      <td>None</td>\n",
       "      <td>61</td>\n",
       "    </tr>\n",
       "    <tr>\n",
       "      <td>3</td>\n",
       "      <td>DHL</td>\n",
       "      <td>52</td>\n",
       "    </tr>\n",
       "    <tr>\n",
       "      <td>4</td>\n",
       "      <td>ONTRAC</td>\n",
       "      <td>49</td>\n",
       "    </tr>\n",
       "    <tr>\n",
       "      <td>5</td>\n",
       "      <td>FedEx SmartPost</td>\n",
       "      <td>40</td>\n",
       "    </tr>\n",
       "    <tr>\n",
       "      <td>6</td>\n",
       "      <td>AMZN_US</td>\n",
       "      <td>33</td>\n",
       "    </tr>\n",
       "    <tr>\n",
       "      <td>7</td>\n",
       "      <td>LASERSHIP</td>\n",
       "      <td>25</td>\n",
       "    </tr>\n",
       "    <tr>\n",
       "      <td>8</td>\n",
       "      <td>USPS</td>\n",
       "      <td>24</td>\n",
       "    </tr>\n",
       "    <tr>\n",
       "      <td>9</td>\n",
       "      <td>UPS Mail Innovations</td>\n",
       "      <td>12</td>\n",
       "    </tr>\n",
       "  </tbody>\n",
       "</table>\n",
       "</div>"
      ],
      "text/plain": [
       "                Carrier  Average Price of Item\n",
       "0                 FedEx                     89\n",
       "1                   UPS                     64\n",
       "2                  None                     61\n",
       "3                   DHL                     52\n",
       "4                ONTRAC                     49\n",
       "5       FedEx SmartPost                     40\n",
       "6               AMZN_US                     33\n",
       "7             LASERSHIP                     25\n",
       "8                  USPS                     24\n",
       "9  UPS Mail Innovations                     12"
      ]
     },
     "execution_count": 103,
     "metadata": {},
     "output_type": "execute_result"
    }
   ],
   "source": [
    "con_car_avg = connection.execute('''\n",
    "SELECT carrier_name, round(avg(item_total))\n",
    "FROM amazon.amazon_purchases\n",
    "GROUP BY carrier_name\n",
    "ORDER BY round desc\n",
    "LIMIT 10\n",
    "''')\n",
    "                                        \n",
    "data_con_car_avg = [row for row in con_car_avg]\n",
    "df_con_car_avg = pd.DataFrame.from_records(data_con_car_avg)\n",
    "df_con_car_avg.columns = ['Carrier','Average Price of Item']\n",
    "df_con_car_avg['Average Price of Item'] = df_con_car_avg['Average Price of Item'].astype(int)\n",
    "df_con_car_avg"
   ]
  },
  {
   "cell_type": "code",
   "execution_count": 104,
   "metadata": {},
   "outputs": [
    {
     "data": {
      "image/png": "[encoded data removed]",
      "text/plain": [
       "<Figure size 432x288 with 1 Axes>"
      ]
     },
     "metadata": {
      "needs_background": "light"
     },
     "output_type": "display_data"
    }
   ],
   "source": [
    "plot_df_con_car_avg = df_con_car_avg.plot.bar(x=0, y=1, rot = 90)\n",
    "plt.savefig('carrier_price.png')\n",
    "carrier_price = 'carrier_price.png'"
   ]
  },
  {
   "cell_type": "code",
   "execution_count": 105,
   "metadata": {},
   "outputs": [
    {
     "data": {
      "text/html": [
       "<div>\n",
       "<style scoped>\n",
       "    .dataframe tbody tr th:only-of-type {\n",
       "        vertical-align: middle;\n",
       "    }\n",
       "\n",
       "    .dataframe tbody tr th {\n",
       "        vertical-align: top;\n",
       "    }\n",
       "\n",
       "    .dataframe thead th {\n",
       "        text-align: right;\n",
       "    }\n",
       "</style>\n",
       "<table border=\"1\" class=\"dataframe\">\n",
       "  <thead>\n",
       "    <tr style=\"text-align: right;\">\n",
       "      <th></th>\n",
       "      <th>Average Spend 2008/01 - 2019/12</th>\n",
       "    </tr>\n",
       "  </thead>\n",
       "  <tbody>\n",
       "    <tr>\n",
       "      <td>0</td>\n",
       "      <td>39</td>\n",
       "    </tr>\n",
       "  </tbody>\n",
       "</table>\n",
       "</div>"
      ],
      "text/plain": [
       "  Average Spend 2008/01 - 2019/12\n",
       "0                              39"
      ]
     },
     "execution_count": 105,
     "metadata": {},
     "output_type": "execute_result"
    }
   ],
   "source": [
    "# Recall my average spend\n",
    "df_con_avg_spend"
   ]
  },
  {
   "cell_type": "markdown",
   "metadata": {},
   "source": [
    "### Trend Lines"
   ]
  },
  {
   "cell_type": "code",
   "execution_count": 106,
   "metadata": {},
   "outputs": [
    {
     "data": {
      "text/html": [
       "<div>\n",
       "<style scoped>\n",
       "    .dataframe tbody tr th:only-of-type {\n",
       "        vertical-align: middle;\n",
       "    }\n",
       "\n",
       "    .dataframe tbody tr th {\n",
       "        vertical-align: top;\n",
       "    }\n",
       "\n",
       "    .dataframe thead th {\n",
       "        text-align: right;\n",
       "    }\n",
       "</style>\n",
       "<table border=\"1\" class=\"dataframe\">\n",
       "  <thead>\n",
       "    <tr style=\"text-align: right;\">\n",
       "      <th></th>\n",
       "      <th>Year</th>\n",
       "      <th>Month</th>\n",
       "      <th>Count</th>\n",
       "    </tr>\n",
       "  </thead>\n",
       "  <tbody>\n",
       "    <tr>\n",
       "      <td>0</td>\n",
       "      <td>2008</td>\n",
       "      <td>2</td>\n",
       "      <td>2</td>\n",
       "    </tr>\n",
       "    <tr>\n",
       "      <td>1</td>\n",
       "      <td>2008</td>\n",
       "      <td>6</td>\n",
       "      <td>1</td>\n",
       "    </tr>\n",
       "    <tr>\n",
       "      <td>2</td>\n",
       "      <td>2008</td>\n",
       "      <td>11</td>\n",
       "      <td>4</td>\n",
       "    </tr>\n",
       "    <tr>\n",
       "      <td>3</td>\n",
       "      <td>2008</td>\n",
       "      <td>12</td>\n",
       "      <td>2</td>\n",
       "    </tr>\n",
       "    <tr>\n",
       "      <td>4</td>\n",
       "      <td>2009</td>\n",
       "      <td>7</td>\n",
       "      <td>1</td>\n",
       "    </tr>\n",
       "    <tr>\n",
       "      <td>...</td>\n",
       "      <td>...</td>\n",
       "      <td>...</td>\n",
       "      <td>...</td>\n",
       "    </tr>\n",
       "    <tr>\n",
       "      <td>98</td>\n",
       "      <td>2019</td>\n",
       "      <td>9</td>\n",
       "      <td>8</td>\n",
       "    </tr>\n",
       "    <tr>\n",
       "      <td>99</td>\n",
       "      <td>2019</td>\n",
       "      <td>10</td>\n",
       "      <td>5</td>\n",
       "    </tr>\n",
       "    <tr>\n",
       "      <td>100</td>\n",
       "      <td>2019</td>\n",
       "      <td>11</td>\n",
       "      <td>5</td>\n",
       "    </tr>\n",
       "    <tr>\n",
       "      <td>101</td>\n",
       "      <td>2019</td>\n",
       "      <td>12</td>\n",
       "      <td>9</td>\n",
       "    </tr>\n",
       "    <tr>\n",
       "      <td>102</td>\n",
       "      <td>2020</td>\n",
       "      <td>1</td>\n",
       "      <td>2</td>\n",
       "    </tr>\n",
       "  </tbody>\n",
       "</table>\n",
       "<p>103 rows × 3 columns</p>\n",
       "</div>"
      ],
      "text/plain": [
       "     Year  Month  Count\n",
       "0    2008      2      2\n",
       "1    2008      6      1\n",
       "2    2008     11      4\n",
       "3    2008     12      2\n",
       "4    2009      7      1\n",
       "..    ...    ...    ...\n",
       "98   2019      9      8\n",
       "99   2019     10      5\n",
       "100  2019     11      5\n",
       "101  2019     12      9\n",
       "102  2020      1      2\n",
       "\n",
       "[103 rows x 3 columns]"
      ]
     },
     "execution_count": 106,
     "metadata": {},
     "output_type": "execute_result"
    }
   ],
   "source": [
    "con_month_trend = connection.execute('''\n",
    "SELECT extract(year from order_date) as year, extract(month from order_date) as month, count(*)\n",
    "FROM amazon.amazon_purchases\n",
    "GROUP BY year, month\n",
    "ORDER BY year, month\n",
    "''')\n",
    "                                        \n",
    "data_con_month_trend = [row for row in con_month_trend]\n",
    "df_con_month_trend = pd.DataFrame.from_records(data_con_month_trend)\n",
    "df_con_month_trend.columns = ['Year','Month', 'Count']\n",
    "df_con_month_trend['Year'] = df_con_month_trend['Year'].astype(int)\n",
    "df_con_month_trend['Month'] = df_con_month_trend['Month'].astype(int)\n",
    "df_con_month_trend['Count'] = df_con_month_trend['Count'].astype(int)\n",
    "df_con_month_trend"
   ]
  },
  {
   "cell_type": "code",
   "execution_count": 107,
   "metadata": {
    "scrolled": true
   },
   "outputs": [
    {
     "data": {
      "image/png": "[encoded data removed]",
      "text/plain": [
       "<Figure size 432x288 with 1 Axes>"
      ]
     },
     "metadata": {
      "needs_background": "light"
     },
     "output_type": "display_data"
    }
   ],
   "source": [
    "plot_con_month_trend = sns.lineplot(data=df_con_month_trend, x='Month', y='Count', hue='Year')\n",
    "plt.savefig('month_trend.png')\n",
    "month_trend = 'month_trend.png'"
   ]
  },
  {
   "cell_type": "markdown",
   "metadata": {},
   "source": [
    "# Revert to using Pandas without SQL"
   ]
  },
  {
   "cell_type": "code",
   "execution_count": 108,
   "metadata": {},
   "outputs": [
    {
     "data": {
      "text/html": [
       "<div>\n",
       "<style scoped>\n",
       "    .dataframe tbody tr th:only-of-type {\n",
       "        vertical-align: middle;\n",
       "    }\n",
       "\n",
       "    .dataframe tbody tr th {\n",
       "        vertical-align: top;\n",
       "    }\n",
       "\n",
       "    .dataframe thead th {\n",
       "        text-align: right;\n",
       "    }\n",
       "</style>\n",
       "<table border=\"1\" class=\"dataframe\">\n",
       "  <thead>\n",
       "    <tr style=\"text-align: right;\">\n",
       "      <th></th>\n",
       "      <th>order_id</th>\n",
       "      <th>order_date</th>\n",
       "      <th>category</th>\n",
       "      <th>website</th>\n",
       "      <th>condition</th>\n",
       "      <th>seller</th>\n",
       "      <th>list_price_per_unit</th>\n",
       "      <th>purchase_price_per_unit</th>\n",
       "      <th>quantity</th>\n",
       "      <th>shipment_date</th>\n",
       "      <th>carrier_name</th>\n",
       "      <th>item_subtotal</th>\n",
       "      <th>item_subtotal_tax</th>\n",
       "      <th>item_total</th>\n",
       "    </tr>\n",
       "  </thead>\n",
       "  <tbody>\n",
       "    <tr>\n",
       "      <td>0</td>\n",
       "      <td>1</td>\n",
       "      <td>2008-02-19</td>\n",
       "      <td>BOOKS</td>\n",
       "      <td>Amazon.com</td>\n",
       "      <td>None</td>\n",
       "      <td>Amazon.com</td>\n",
       "      <td>29.99</td>\n",
       "      <td>19.79</td>\n",
       "      <td>1</td>\n",
       "      <td>2008-02-25</td>\n",
       "      <td>USPS</td>\n",
       "      <td>19.79</td>\n",
       "      <td>0.00</td>\n",
       "      <td>19.79</td>\n",
       "    </tr>\n",
       "    <tr>\n",
       "      <td>1</td>\n",
       "      <td>2</td>\n",
       "      <td>2008-02-19</td>\n",
       "      <td>BOOKS</td>\n",
       "      <td>Amazon.com</td>\n",
       "      <td>None</td>\n",
       "      <td>Amazon.com</td>\n",
       "      <td>27.95</td>\n",
       "      <td>18.45</td>\n",
       "      <td>1</td>\n",
       "      <td>2008-02-25</td>\n",
       "      <td>USPS</td>\n",
       "      <td>18.45</td>\n",
       "      <td>0.00</td>\n",
       "      <td>18.45</td>\n",
       "    </tr>\n",
       "    <tr>\n",
       "      <td>2</td>\n",
       "      <td>3</td>\n",
       "      <td>2008-06-03</td>\n",
       "      <td>BOOKS</td>\n",
       "      <td>Amazon.com</td>\n",
       "      <td>None</td>\n",
       "      <td>Amazon.com</td>\n",
       "      <td>34.99</td>\n",
       "      <td>23.09</td>\n",
       "      <td>1</td>\n",
       "      <td>2008-06-04</td>\n",
       "      <td>UPS</td>\n",
       "      <td>23.09</td>\n",
       "      <td>0.00</td>\n",
       "      <td>23.09</td>\n",
       "    </tr>\n",
       "    <tr>\n",
       "      <td>3</td>\n",
       "      <td>4</td>\n",
       "      <td>2008-11-06</td>\n",
       "      <td>HEALTH_BEAUTY</td>\n",
       "      <td>Amazon.com</td>\n",
       "      <td>None</td>\n",
       "      <td>SimplyBeautiful</td>\n",
       "      <td>6.99</td>\n",
       "      <td>9.39</td>\n",
       "      <td>1</td>\n",
       "      <td>2008-11-07</td>\n",
       "      <td>USPS</td>\n",
       "      <td>9.39</td>\n",
       "      <td>0.00</td>\n",
       "      <td>9.39</td>\n",
       "    </tr>\n",
       "    <tr>\n",
       "      <td>4</td>\n",
       "      <td>5</td>\n",
       "      <td>2008-11-06</td>\n",
       "      <td>HEALTH_BEAUTY</td>\n",
       "      <td>Amazon.com</td>\n",
       "      <td>None</td>\n",
       "      <td>SimplyBeautiful</td>\n",
       "      <td>10.99</td>\n",
       "      <td>7.99</td>\n",
       "      <td>1</td>\n",
       "      <td>2008-11-07</td>\n",
       "      <td>USPS</td>\n",
       "      <td>7.99</td>\n",
       "      <td>0.00</td>\n",
       "      <td>7.99</td>\n",
       "    </tr>\n",
       "    <tr>\n",
       "      <td>...</td>\n",
       "      <td>...</td>\n",
       "      <td>...</td>\n",
       "      <td>...</td>\n",
       "      <td>...</td>\n",
       "      <td>...</td>\n",
       "      <td>...</td>\n",
       "      <td>...</td>\n",
       "      <td>...</td>\n",
       "      <td>...</td>\n",
       "      <td>...</td>\n",
       "      <td>...</td>\n",
       "      <td>...</td>\n",
       "      <td>...</td>\n",
       "      <td>...</td>\n",
       "    </tr>\n",
       "    <tr>\n",
       "      <td>778</td>\n",
       "      <td>972</td>\n",
       "      <td>2019-12-18</td>\n",
       "      <td>OTHER</td>\n",
       "      <td>Amazon.com</td>\n",
       "      <td>new</td>\n",
       "      <td>TORRAS¬Æ</td>\n",
       "      <td>27.00</td>\n",
       "      <td>12.99</td>\n",
       "      <td>1</td>\n",
       "      <td>2019-12-19</td>\n",
       "      <td>AMZN_US</td>\n",
       "      <td>12.99</td>\n",
       "      <td>0.86</td>\n",
       "      <td>13.85</td>\n",
       "    </tr>\n",
       "    <tr>\n",
       "      <td>779</td>\n",
       "      <td>973</td>\n",
       "      <td>2019-12-19</td>\n",
       "      <td>GIFT_CARD</td>\n",
       "      <td>Amazon.com</td>\n",
       "      <td>new</td>\n",
       "      <td>Amazon.com</td>\n",
       "      <td>50.00</td>\n",
       "      <td>200.00</td>\n",
       "      <td>1</td>\n",
       "      <td>2019-12-19</td>\n",
       "      <td>None</td>\n",
       "      <td>200.00</td>\n",
       "      <td>0.00</td>\n",
       "      <td>200.00</td>\n",
       "    </tr>\n",
       "    <tr>\n",
       "      <td>780</td>\n",
       "      <td>974</td>\n",
       "      <td>2019-12-24</td>\n",
       "      <td>HEALTH_BEAUTY</td>\n",
       "      <td>Amazon.com</td>\n",
       "      <td>new</td>\n",
       "      <td>Amazon.com</td>\n",
       "      <td>24.99</td>\n",
       "      <td>13.59</td>\n",
       "      <td>2</td>\n",
       "      <td>2019-12-26</td>\n",
       "      <td>AMZN_US</td>\n",
       "      <td>27.18</td>\n",
       "      <td>0.00</td>\n",
       "      <td>27.18</td>\n",
       "    </tr>\n",
       "    <tr>\n",
       "      <td>781</td>\n",
       "      <td>976</td>\n",
       "      <td>2020-01-01</td>\n",
       "      <td>HEALTH_BEAUTY</td>\n",
       "      <td>Amazon.com</td>\n",
       "      <td>new</td>\n",
       "      <td>Amazon.com</td>\n",
       "      <td>12.13</td>\n",
       "      <td>11.98</td>\n",
       "      <td>2</td>\n",
       "      <td>2020-01-03</td>\n",
       "      <td>AMZN_US</td>\n",
       "      <td>23.96</td>\n",
       "      <td>1.58</td>\n",
       "      <td>25.54</td>\n",
       "    </tr>\n",
       "    <tr>\n",
       "      <td>782</td>\n",
       "      <td>977</td>\n",
       "      <td>2020-01-01</td>\n",
       "      <td>HEALTH_BEAUTY</td>\n",
       "      <td>Amazon.com</td>\n",
       "      <td>new</td>\n",
       "      <td>Amazon.com</td>\n",
       "      <td>24.50</td>\n",
       "      <td>8.87</td>\n",
       "      <td>1</td>\n",
       "      <td>2020-01-02</td>\n",
       "      <td>USPS</td>\n",
       "      <td>8.87</td>\n",
       "      <td>0.00</td>\n",
       "      <td>8.87</td>\n",
       "    </tr>\n",
       "  </tbody>\n",
       "</table>\n",
       "<p>783 rows × 14 columns</p>\n",
       "</div>"
      ],
      "text/plain": [
       "     order_id order_date       category     website condition  \\\n",
       "0           1 2008-02-19          BOOKS  Amazon.com      None   \n",
       "1           2 2008-02-19          BOOKS  Amazon.com      None   \n",
       "2           3 2008-06-03          BOOKS  Amazon.com      None   \n",
       "3           4 2008-11-06  HEALTH_BEAUTY  Amazon.com      None   \n",
       "4           5 2008-11-06  HEALTH_BEAUTY  Amazon.com      None   \n",
       "..        ...        ...            ...         ...       ...   \n",
       "778       972 2019-12-18          OTHER  Amazon.com       new   \n",
       "779       973 2019-12-19      GIFT_CARD  Amazon.com       new   \n",
       "780       974 2019-12-24  HEALTH_BEAUTY  Amazon.com       new   \n",
       "781       976 2020-01-01  HEALTH_BEAUTY  Amazon.com       new   \n",
       "782       977 2020-01-01  HEALTH_BEAUTY  Amazon.com       new   \n",
       "\n",
       "              seller  list_price_per_unit  purchase_price_per_unit  quantity  \\\n",
       "0         Amazon.com                29.99                    19.79         1   \n",
       "1         Amazon.com                27.95                    18.45         1   \n",
       "2         Amazon.com                34.99                    23.09         1   \n",
       "3    SimplyBeautiful                 6.99                     9.39         1   \n",
       "4    SimplyBeautiful                10.99                     7.99         1   \n",
       "..               ...                  ...                      ...       ...   \n",
       "778         TORRAS¬Æ                27.00                    12.99         1   \n",
       "779       Amazon.com                50.00                   200.00         1   \n",
       "780       Amazon.com                24.99                    13.59         2   \n",
       "781       Amazon.com                12.13                    11.98         2   \n",
       "782       Amazon.com                24.50                     8.87         1   \n",
       "\n",
       "    shipment_date carrier_name  item_subtotal  item_subtotal_tax  item_total  \n",
       "0      2008-02-25         USPS          19.79               0.00       19.79  \n",
       "1      2008-02-25         USPS          18.45               0.00       18.45  \n",
       "2      2008-06-04          UPS          23.09               0.00       23.09  \n",
       "3      2008-11-07         USPS           9.39               0.00        9.39  \n",
       "4      2008-11-07         USPS           7.99               0.00        7.99  \n",
       "..            ...          ...            ...                ...         ...  \n",
       "778    2019-12-19      AMZN_US          12.99               0.86       13.85  \n",
       "779    2019-12-19         None         200.00               0.00      200.00  \n",
       "780    2019-12-26      AMZN_US          27.18               0.00       27.18  \n",
       "781    2020-01-03      AMZN_US          23.96               1.58       25.54  \n",
       "782    2020-01-02         USPS           8.87               0.00        8.87  \n",
       "\n",
       "[783 rows x 14 columns]"
      ]
     },
     "execution_count": 108,
     "metadata": {},
     "output_type": "execute_result"
    }
   ],
   "source": [
    "df"
   ]
  },
  {
   "cell_type": "code",
   "execution_count": 109,
   "metadata": {},
   "outputs": [
    {
     "data": {
      "text/plain": [
       "30391.82"
      ]
     },
     "execution_count": 109,
     "metadata": {},
     "output_type": "execute_result"
    }
   ],
   "source": [
    "# Total spending\n",
    "df['item_total'].sum()"
   ]
  },
  {
   "cell_type": "code",
   "execution_count": 110,
   "metadata": {},
   "outputs": [
    {
     "data": {
      "text/plain": [
       "38.8145849297574"
      ]
     },
     "execution_count": 110,
     "metadata": {},
     "output_type": "execute_result"
    }
   ],
   "source": [
    "# Average item total\n",
    "df['item_total'].mean()"
   ]
  },
  {
   "cell_type": "code",
   "execution_count": 111,
   "metadata": {},
   "outputs": [
    {
     "data": {
      "text/html": [
       "<div>\n",
       "<style scoped>\n",
       "    .dataframe tbody tr th:only-of-type {\n",
       "        vertical-align: middle;\n",
       "    }\n",
       "\n",
       "    .dataframe tbody tr th {\n",
       "        vertical-align: top;\n",
       "    }\n",
       "\n",
       "    .dataframe thead th {\n",
       "        text-align: right;\n",
       "    }\n",
       "</style>\n",
       "<table border=\"1\" class=\"dataframe\">\n",
       "  <thead>\n",
       "    <tr style=\"text-align: right;\">\n",
       "      <th></th>\n",
       "      <th>item_total</th>\n",
       "    </tr>\n",
       "  </thead>\n",
       "  <tbody>\n",
       "    <tr>\n",
       "      <td>count</td>\n",
       "      <td>783.000000</td>\n",
       "    </tr>\n",
       "    <tr>\n",
       "      <td>mean</td>\n",
       "      <td>38.814585</td>\n",
       "    </tr>\n",
       "    <tr>\n",
       "      <td>std</td>\n",
       "      <td>73.652862</td>\n",
       "    </tr>\n",
       "    <tr>\n",
       "      <td>min</td>\n",
       "      <td>0.010000</td>\n",
       "    </tr>\n",
       "    <tr>\n",
       "      <td>25%</td>\n",
       "      <td>9.655000</td>\n",
       "    </tr>\n",
       "    <tr>\n",
       "      <td>50%</td>\n",
       "      <td>16.120000</td>\n",
       "    </tr>\n",
       "    <tr>\n",
       "      <td>75%</td>\n",
       "      <td>36.620000</td>\n",
       "    </tr>\n",
       "    <tr>\n",
       "      <td>max</td>\n",
       "      <td>740.700000</td>\n",
       "    </tr>\n",
       "  </tbody>\n",
       "</table>\n",
       "</div>"
      ],
      "text/plain": [
       "       item_total\n",
       "count  783.000000\n",
       "mean    38.814585\n",
       "std     73.652862\n",
       "min      0.010000\n",
       "25%      9.655000\n",
       "50%     16.120000\n",
       "75%     36.620000\n",
       "max    740.700000"
      ]
     },
     "execution_count": 111,
     "metadata": {},
     "output_type": "execute_result"
    }
   ],
   "source": [
    "# Summary stats of item_total\n",
    "pd.DataFrame(df.item_total.describe())\n",
    "#df['item_total'].describe()"
   ]
  },
  {
   "cell_type": "code",
   "execution_count": 112,
   "metadata": {
    "scrolled": true
   },
   "outputs": [
    {
     "data": {
      "image/png": "[encoded data removed]",
      "text/plain": [
       "<Figure size 432x288 with 1 Axes>"
      ]
     },
     "metadata": {
      "needs_background": "light"
     },
     "output_type": "display_data"
    }
   ],
   "source": [
    "# Percentage of item purchases by count\n",
    "df['category'].value_counts(normalize=True).plot(kind='bar',title='')\n",
    "plt.savefig('share_purchase.png')\n",
    "share_purchase = 'share_purchase.png'"
   ]
  },
  {
   "cell_type": "code",
   "execution_count": 113,
   "metadata": {},
   "outputs": [
    {
     "data": {
      "text/html": [
       "<div>\n",
       "<style scoped>\n",
       "    .dataframe tbody tr th:only-of-type {\n",
       "        vertical-align: middle;\n",
       "    }\n",
       "\n",
       "    .dataframe tbody tr th {\n",
       "        vertical-align: top;\n",
       "    }\n",
       "\n",
       "    .dataframe thead th {\n",
       "        text-align: right;\n",
       "    }\n",
       "</style>\n",
       "<table border=\"1\" class=\"dataframe\">\n",
       "  <thead>\n",
       "    <tr style=\"text-align: right;\">\n",
       "      <th></th>\n",
       "      <th>order_date</th>\n",
       "      <th>shipment_days</th>\n",
       "      <th>seller</th>\n",
       "    </tr>\n",
       "  </thead>\n",
       "  <tbody>\n",
       "    <tr>\n",
       "      <td>0</td>\n",
       "      <td>2008-02-19</td>\n",
       "      <td>6 days</td>\n",
       "      <td>Amazon.com</td>\n",
       "    </tr>\n",
       "    <tr>\n",
       "      <td>1</td>\n",
       "      <td>2008-02-19</td>\n",
       "      <td>6 days</td>\n",
       "      <td>Amazon.com</td>\n",
       "    </tr>\n",
       "    <tr>\n",
       "      <td>2</td>\n",
       "      <td>2008-06-03</td>\n",
       "      <td>1 days</td>\n",
       "      <td>Amazon.com</td>\n",
       "    </tr>\n",
       "    <tr>\n",
       "      <td>3</td>\n",
       "      <td>2008-11-06</td>\n",
       "      <td>1 days</td>\n",
       "      <td>SimplyBeautiful</td>\n",
       "    </tr>\n",
       "    <tr>\n",
       "      <td>4</td>\n",
       "      <td>2008-11-06</td>\n",
       "      <td>1 days</td>\n",
       "      <td>SimplyBeautiful</td>\n",
       "    </tr>\n",
       "    <tr>\n",
       "      <td>...</td>\n",
       "      <td>...</td>\n",
       "      <td>...</td>\n",
       "      <td>...</td>\n",
       "    </tr>\n",
       "    <tr>\n",
       "      <td>778</td>\n",
       "      <td>2019-12-18</td>\n",
       "      <td>1 days</td>\n",
       "      <td>TORRAS¬Æ</td>\n",
       "    </tr>\n",
       "    <tr>\n",
       "      <td>779</td>\n",
       "      <td>2019-12-19</td>\n",
       "      <td>0 days</td>\n",
       "      <td>Amazon.com</td>\n",
       "    </tr>\n",
       "    <tr>\n",
       "      <td>780</td>\n",
       "      <td>2019-12-24</td>\n",
       "      <td>2 days</td>\n",
       "      <td>Amazon.com</td>\n",
       "    </tr>\n",
       "    <tr>\n",
       "      <td>781</td>\n",
       "      <td>2020-01-01</td>\n",
       "      <td>2 days</td>\n",
       "      <td>Amazon.com</td>\n",
       "    </tr>\n",
       "    <tr>\n",
       "      <td>782</td>\n",
       "      <td>2020-01-01</td>\n",
       "      <td>1 days</td>\n",
       "      <td>Amazon.com</td>\n",
       "    </tr>\n",
       "  </tbody>\n",
       "</table>\n",
       "<p>783 rows × 3 columns</p>\n",
       "</div>"
      ],
      "text/plain": [
       "    order_date shipment_days           seller\n",
       "0   2008-02-19        6 days       Amazon.com\n",
       "1   2008-02-19        6 days       Amazon.com\n",
       "2   2008-06-03        1 days       Amazon.com\n",
       "3   2008-11-06        1 days  SimplyBeautiful\n",
       "4   2008-11-06        1 days  SimplyBeautiful\n",
       "..         ...           ...              ...\n",
       "778 2019-12-18        1 days         TORRAS¬Æ\n",
       "779 2019-12-19        0 days       Amazon.com\n",
       "780 2019-12-24        2 days       Amazon.com\n",
       "781 2020-01-01        2 days       Amazon.com\n",
       "782 2020-01-01        1 days       Amazon.com\n",
       "\n",
       "[783 rows x 3 columns]"
      ]
     },
     "execution_count": 113,
     "metadata": {},
     "output_type": "execute_result"
    }
   ],
   "source": [
    "# Order Time\n",
    "#df_ship_diff = pd.DataFrame()\n",
    "df_ship_diff = df.copy()[['order_date']]\n",
    "df_ship_diff['shipment_days'] = df['shipment_date'] - df['order_date']\n",
    "df_ship_diff['seller'] = df['seller']\n",
    "df_ship_diff"
   ]
  },
  {
   "cell_type": "code",
   "execution_count": 114,
   "metadata": {},
   "outputs": [
    {
     "data": {
      "text/plain": [
       "count                       783\n",
       "mean     1 days 02:56:33.103448\n",
       "std      1 days 06:30:55.901447\n",
       "min             0 days 00:00:00\n",
       "25%             0 days 00:00:00\n",
       "50%             1 days 00:00:00\n",
       "75%             1 days 00:00:00\n",
       "max            12 days 00:00:00\n",
       "Name: shipment_days, dtype: object"
      ]
     },
     "execution_count": 114,
     "metadata": {},
     "output_type": "execute_result"
    }
   ],
   "source": [
    "df_ship_diff['shipment_days'].describe()"
   ]
  },
  {
   "cell_type": "code",
   "execution_count": 115,
   "metadata": {},
   "outputs": [
    {
     "data": {
      "text/plain": [
       "order_date        datetime64[ns]\n",
       "shipment_days    timedelta64[ns]\n",
       "seller                    object\n",
       "dtype: object"
      ]
     },
     "execution_count": 115,
     "metadata": {},
     "output_type": "execute_result"
    }
   ],
   "source": [
    "df_ship_diff.dtypes"
   ]
  },
  {
   "cell_type": "code",
   "execution_count": 116,
   "metadata": {},
   "outputs": [
    {
     "data": {
      "text/html": [
       "<div>\n",
       "<style scoped>\n",
       "    .dataframe tbody tr th:only-of-type {\n",
       "        vertical-align: middle;\n",
       "    }\n",
       "\n",
       "    .dataframe tbody tr th {\n",
       "        vertical-align: top;\n",
       "    }\n",
       "\n",
       "    .dataframe thead th {\n",
       "        text-align: right;\n",
       "    }\n",
       "</style>\n",
       "<table border=\"1\" class=\"dataframe\">\n",
       "  <thead>\n",
       "    <tr style=\"text-align: right;\">\n",
       "      <th></th>\n",
       "      <th>order_date</th>\n",
       "      <th>shipment_days</th>\n",
       "      <th>seller</th>\n",
       "    </tr>\n",
       "  </thead>\n",
       "  <tbody>\n",
       "    <tr>\n",
       "      <td>0</td>\n",
       "      <td>2008-02-19</td>\n",
       "      <td>6</td>\n",
       "      <td>Amazon.com</td>\n",
       "    </tr>\n",
       "    <tr>\n",
       "      <td>1</td>\n",
       "      <td>2008-02-19</td>\n",
       "      <td>6</td>\n",
       "      <td>Amazon.com</td>\n",
       "    </tr>\n",
       "    <tr>\n",
       "      <td>2</td>\n",
       "      <td>2008-06-03</td>\n",
       "      <td>1</td>\n",
       "      <td>Amazon.com</td>\n",
       "    </tr>\n",
       "    <tr>\n",
       "      <td>3</td>\n",
       "      <td>2008-11-06</td>\n",
       "      <td>1</td>\n",
       "      <td>SimplyBeautiful</td>\n",
       "    </tr>\n",
       "    <tr>\n",
       "      <td>4</td>\n",
       "      <td>2008-11-06</td>\n",
       "      <td>1</td>\n",
       "      <td>SimplyBeautiful</td>\n",
       "    </tr>\n",
       "    <tr>\n",
       "      <td>...</td>\n",
       "      <td>...</td>\n",
       "      <td>...</td>\n",
       "      <td>...</td>\n",
       "    </tr>\n",
       "    <tr>\n",
       "      <td>778</td>\n",
       "      <td>2019-12-18</td>\n",
       "      <td>1</td>\n",
       "      <td>TORRAS¬Æ</td>\n",
       "    </tr>\n",
       "    <tr>\n",
       "      <td>779</td>\n",
       "      <td>2019-12-19</td>\n",
       "      <td>0</td>\n",
       "      <td>Amazon.com</td>\n",
       "    </tr>\n",
       "    <tr>\n",
       "      <td>780</td>\n",
       "      <td>2019-12-24</td>\n",
       "      <td>2</td>\n",
       "      <td>Amazon.com</td>\n",
       "    </tr>\n",
       "    <tr>\n",
       "      <td>781</td>\n",
       "      <td>2020-01-01</td>\n",
       "      <td>2</td>\n",
       "      <td>Amazon.com</td>\n",
       "    </tr>\n",
       "    <tr>\n",
       "      <td>782</td>\n",
       "      <td>2020-01-01</td>\n",
       "      <td>1</td>\n",
       "      <td>Amazon.com</td>\n",
       "    </tr>\n",
       "  </tbody>\n",
       "</table>\n",
       "<p>783 rows × 3 columns</p>\n",
       "</div>"
      ],
      "text/plain": [
       "    order_date  shipment_days           seller\n",
       "0   2008-02-19              6       Amazon.com\n",
       "1   2008-02-19              6       Amazon.com\n",
       "2   2008-06-03              1       Amazon.com\n",
       "3   2008-11-06              1  SimplyBeautiful\n",
       "4   2008-11-06              1  SimplyBeautiful\n",
       "..         ...            ...              ...\n",
       "778 2019-12-18              1         TORRAS¬Æ\n",
       "779 2019-12-19              0       Amazon.com\n",
       "780 2019-12-24              2       Amazon.com\n",
       "781 2020-01-01              2       Amazon.com\n",
       "782 2020-01-01              1       Amazon.com\n",
       "\n",
       "[783 rows x 3 columns]"
      ]
     },
     "execution_count": 116,
     "metadata": {},
     "output_type": "execute_result"
    }
   ],
   "source": [
    "df_ship_diff['shipment_days'] = df_ship_diff['shipment_days'].astype(str)\n",
    "df_ship_diff['shipment_days'] = df_ship_diff['shipment_days'].str[0:1]\n",
    "df_ship_diff['shipment_days'] = df_ship_diff['shipment_days'].astype(int)\n",
    "df_ship_diff"
   ]
  },
  {
   "cell_type": "code",
   "execution_count": 117,
   "metadata": {},
   "outputs": [
    {
     "data": {
      "image/png": "[encoded data removed]",
      "text/plain": [
       "<Figure size 432x288 with 1 Axes>"
      ]
     },
     "metadata": {
      "needs_background": "light"
     },
     "output_type": "display_data"
    }
   ],
   "source": [
    "df_ship_diff['shipment_days'].plot(kind='hist', bins = 14)\n",
    "plt.savefig('ship_diff_all_bar.png')\n",
    "ship_diff_all_bar = 'ship_diff_all_bar.png'"
   ]
  },
  {
   "cell_type": "code",
   "execution_count": 118,
   "metadata": {},
   "outputs": [
    {
     "data": {
      "image/png": "[encoded data removed]",
      "text/plain": [
       "<Figure size 1080x360 with 1 Axes>"
      ]
     },
     "metadata": {
      "needs_background": "light"
     },
     "output_type": "display_data"
    }
   ],
   "source": [
    "df_ship_diff.plot(kind='line', x=0, y=1, figsize = (15,5))\n",
    "plt.savefig('ship_diff_all_line.png')\n",
    "ship_diff_all_line = 'ship_diff_all_line.png'"
   ]
  },
  {
   "cell_type": "code",
   "execution_count": 119,
   "metadata": {},
   "outputs": [
    {
     "data": {
      "image/png": "[encoded data removed]",
      "text/plain": [
       "<Figure size 432x288 with 1 Axes>"
      ]
     },
     "metadata": {
      "needs_background": "light"
     },
     "output_type": "display_data"
    }
   ],
   "source": [
    "plt.scatter(x=df_ship_diff['order_date'], y=df_ship_diff['shipment_days'])\n",
    "plt.title('All-Seller Shipment Days')\n",
    "#plt.show()\n",
    "plt.savefig('ship_diff_all_scatt.png')\n",
    "ship_diff_all_scatt = 'ship_diff_all_scatt.png'"
   ]
  },
  {
   "cell_type": "code",
   "execution_count": 120,
   "metadata": {
    "scrolled": true
   },
   "outputs": [
    {
     "data": {
      "text/html": [
       "<div>\n",
       "<style scoped>\n",
       "    .dataframe tbody tr th:only-of-type {\n",
       "        vertical-align: middle;\n",
       "    }\n",
       "\n",
       "    .dataframe tbody tr th {\n",
       "        vertical-align: top;\n",
       "    }\n",
       "\n",
       "    .dataframe thead th {\n",
       "        text-align: right;\n",
       "    }\n",
       "</style>\n",
       "<table border=\"1\" class=\"dataframe\">\n",
       "  <thead>\n",
       "    <tr style=\"text-align: right;\">\n",
       "      <th></th>\n",
       "      <th>order_date</th>\n",
       "      <th>shipment_days</th>\n",
       "      <th>seller</th>\n",
       "    </tr>\n",
       "  </thead>\n",
       "  <tbody>\n",
       "    <tr>\n",
       "      <td>0</td>\n",
       "      <td>2008-02-19</td>\n",
       "      <td>6</td>\n",
       "      <td>Amazon.com</td>\n",
       "    </tr>\n",
       "    <tr>\n",
       "      <td>1</td>\n",
       "      <td>2008-02-19</td>\n",
       "      <td>6</td>\n",
       "      <td>Amazon.com</td>\n",
       "    </tr>\n",
       "    <tr>\n",
       "      <td>2</td>\n",
       "      <td>2008-06-03</td>\n",
       "      <td>1</td>\n",
       "      <td>Amazon.com</td>\n",
       "    </tr>\n",
       "    <tr>\n",
       "      <td>7</td>\n",
       "      <td>2008-12-13</td>\n",
       "      <td>1</td>\n",
       "      <td>Amazon.com</td>\n",
       "    </tr>\n",
       "    <tr>\n",
       "      <td>8</td>\n",
       "      <td>2008-12-13</td>\n",
       "      <td>1</td>\n",
       "      <td>Amazon.com</td>\n",
       "    </tr>\n",
       "    <tr>\n",
       "      <td>...</td>\n",
       "      <td>...</td>\n",
       "      <td>...</td>\n",
       "      <td>...</td>\n",
       "    </tr>\n",
       "    <tr>\n",
       "      <td>776</td>\n",
       "      <td>2019-12-14</td>\n",
       "      <td>1</td>\n",
       "      <td>Amazon.com</td>\n",
       "    </tr>\n",
       "    <tr>\n",
       "      <td>779</td>\n",
       "      <td>2019-12-19</td>\n",
       "      <td>0</td>\n",
       "      <td>Amazon.com</td>\n",
       "    </tr>\n",
       "    <tr>\n",
       "      <td>780</td>\n",
       "      <td>2019-12-24</td>\n",
       "      <td>2</td>\n",
       "      <td>Amazon.com</td>\n",
       "    </tr>\n",
       "    <tr>\n",
       "      <td>781</td>\n",
       "      <td>2020-01-01</td>\n",
       "      <td>2</td>\n",
       "      <td>Amazon.com</td>\n",
       "    </tr>\n",
       "    <tr>\n",
       "      <td>782</td>\n",
       "      <td>2020-01-01</td>\n",
       "      <td>1</td>\n",
       "      <td>Amazon.com</td>\n",
       "    </tr>\n",
       "  </tbody>\n",
       "</table>\n",
       "<p>454 rows × 3 columns</p>\n",
       "</div>"
      ],
      "text/plain": [
       "    order_date  shipment_days      seller\n",
       "0   2008-02-19              6  Amazon.com\n",
       "1   2008-02-19              6  Amazon.com\n",
       "2   2008-06-03              1  Amazon.com\n",
       "7   2008-12-13              1  Amazon.com\n",
       "8   2008-12-13              1  Amazon.com\n",
       "..         ...            ...         ...\n",
       "776 2019-12-14              1  Amazon.com\n",
       "779 2019-12-19              0  Amazon.com\n",
       "780 2019-12-24              2  Amazon.com\n",
       "781 2020-01-01              2  Amazon.com\n",
       "782 2020-01-01              1  Amazon.com\n",
       "\n",
       "[454 rows x 3 columns]"
      ]
     },
     "execution_count": 120,
     "metadata": {},
     "output_type": "execute_result"
    }
   ],
   "source": [
    "df_ship_diff_2 = df_ship_diff[df_ship_diff.seller == 'Amazon.com']\n",
    "df_ship_diff_2"
   ]
  },
  {
   "cell_type": "code",
   "execution_count": 121,
   "metadata": {
    "scrolled": true
   },
   "outputs": [
    {
     "data": {
      "text/plain": [
       "count    454.000000\n",
       "mean       1.039648\n",
       "std        1.093111\n",
       "min        0.000000\n",
       "25%        0.000000\n",
       "50%        1.000000\n",
       "75%        1.000000\n",
       "max        7.000000\n",
       "Name: shipment_days, dtype: float64"
      ]
     },
     "execution_count": 121,
     "metadata": {},
     "output_type": "execute_result"
    }
   ],
   "source": [
    "df_ship_diff_2['shipment_days'].describe()"
   ]
  },
  {
   "cell_type": "code",
   "execution_count": 122,
   "metadata": {},
   "outputs": [
    {
     "data": {
      "image/png": "[encoded data removed]",
      "text/plain": [
       "<Figure size 432x288 with 1 Axes>"
      ]
     },
     "metadata": {
      "needs_background": "light"
     },
     "output_type": "display_data"
    }
   ],
   "source": [
    "df_ship_diff_2['shipment_days'].plot(kind='hist', bins = 14)\n",
    "plt.savefig('ship_diff_amzn_bar.png')\n",
    "ship_diff_amzn_bar = 'ship_diff_amzn_bar.png'"
   ]
  },
  {
   "cell_type": "code",
   "execution_count": 123,
   "metadata": {},
   "outputs": [
    {
     "data": {
      "image/png": "[encoded data removed]",
      "text/plain": [
       "<Figure size 1080x360 with 1 Axes>"
      ]
     },
     "metadata": {
      "needs_background": "light"
     },
     "output_type": "display_data"
    }
   ],
   "source": [
    "df_ship_diff_2.plot(kind='line', x=0, y=1, figsize = (15,5))\n",
    "plt.savefig('ship_diff_amzn_line.png')\n",
    "ship_diff_amzn_line = 'ship_diff_amzn_line.png'"
   ]
  },
  {
   "cell_type": "code",
   "execution_count": 124,
   "metadata": {},
   "outputs": [
    {
     "data": {
      "image/png": "[encoded data removed]",
      "text/plain": [
       "<Figure size 432x288 with 1 Axes>"
      ]
     },
     "metadata": {
      "needs_background": "light"
     },
     "output_type": "display_data"
    }
   ],
   "source": [
    "plt.scatter(x=df_ship_diff_2['order_date'], y=df_ship_diff_2['shipment_days'])\n",
    "plt.title('Amazon-only Shipment Days')\n",
    "#plt.show()\n",
    "plt.savefig('ship_diff_amzn_scatt.png')\n",
    "ship_diff_amzn_scatt = 'ship_diff_amzn_scatt.png'"
   ]
  },
  {
   "cell_type": "code",
   "execution_count": 125,
   "metadata": {},
   "outputs": [
    {
     "data": {
      "text/html": [
       "<div>\n",
       "<style scoped>\n",
       "    .dataframe tbody tr th:only-of-type {\n",
       "        vertical-align: middle;\n",
       "    }\n",
       "\n",
       "    .dataframe tbody tr th {\n",
       "        vertical-align: top;\n",
       "    }\n",
       "\n",
       "    .dataframe thead th {\n",
       "        text-align: right;\n",
       "    }\n",
       "</style>\n",
       "<table border=\"1\" class=\"dataframe\">\n",
       "  <thead>\n",
       "    <tr style=\"text-align: right;\">\n",
       "      <th></th>\n",
       "      <th>order_date</th>\n",
       "      <th>shipment_days</th>\n",
       "      <th>seller</th>\n",
       "    </tr>\n",
       "  </thead>\n",
       "  <tbody>\n",
       "    <tr>\n",
       "      <td>3</td>\n",
       "      <td>2008-11-06</td>\n",
       "      <td>1</td>\n",
       "      <td>SimplyBeautiful</td>\n",
       "    </tr>\n",
       "    <tr>\n",
       "      <td>4</td>\n",
       "      <td>2008-11-06</td>\n",
       "      <td>1</td>\n",
       "      <td>SimplyBeautiful</td>\n",
       "    </tr>\n",
       "    <tr>\n",
       "      <td>5</td>\n",
       "      <td>2008-11-06</td>\n",
       "      <td>1</td>\n",
       "      <td>SimplyBeautiful</td>\n",
       "    </tr>\n",
       "    <tr>\n",
       "      <td>6</td>\n",
       "      <td>2008-11-06</td>\n",
       "      <td>1</td>\n",
       "      <td>SimplyBeautiful</td>\n",
       "    </tr>\n",
       "    <tr>\n",
       "      <td>9</td>\n",
       "      <td>2009-07-18</td>\n",
       "      <td>1</td>\n",
       "      <td>Nature and Herbs</td>\n",
       "    </tr>\n",
       "    <tr>\n",
       "      <td>...</td>\n",
       "      <td>...</td>\n",
       "      <td>...</td>\n",
       "      <td>...</td>\n",
       "    </tr>\n",
       "    <tr>\n",
       "      <td>765</td>\n",
       "      <td>2019-10-18</td>\n",
       "      <td>1</td>\n",
       "      <td>Ancestral Supplements, LLC</td>\n",
       "    </tr>\n",
       "    <tr>\n",
       "      <td>772</td>\n",
       "      <td>2019-12-03</td>\n",
       "      <td>1</td>\n",
       "      <td>Change Tree</td>\n",
       "    </tr>\n",
       "    <tr>\n",
       "      <td>775</td>\n",
       "      <td>2019-12-13</td>\n",
       "      <td>0</td>\n",
       "      <td>VICSEED</td>\n",
       "    </tr>\n",
       "    <tr>\n",
       "      <td>777</td>\n",
       "      <td>2019-12-18</td>\n",
       "      <td>1</td>\n",
       "      <td>MKOAWA</td>\n",
       "    </tr>\n",
       "    <tr>\n",
       "      <td>778</td>\n",
       "      <td>2019-12-18</td>\n",
       "      <td>1</td>\n",
       "      <td>TORRAS¬Æ</td>\n",
       "    </tr>\n",
       "  </tbody>\n",
       "</table>\n",
       "<p>329 rows × 3 columns</p>\n",
       "</div>"
      ],
      "text/plain": [
       "    order_date  shipment_days                      seller\n",
       "3   2008-11-06              1             SimplyBeautiful\n",
       "4   2008-11-06              1             SimplyBeautiful\n",
       "5   2008-11-06              1             SimplyBeautiful\n",
       "6   2008-11-06              1             SimplyBeautiful\n",
       "9   2009-07-18              1            Nature and Herbs\n",
       "..         ...            ...                         ...\n",
       "765 2019-10-18              1  Ancestral Supplements, LLC\n",
       "772 2019-12-03              1                 Change Tree\n",
       "775 2019-12-13              0                     VICSEED\n",
       "777 2019-12-18              1                      MKOAWA\n",
       "778 2019-12-18              1                    TORRAS¬Æ\n",
       "\n",
       "[329 rows x 3 columns]"
      ]
     },
     "execution_count": 125,
     "metadata": {},
     "output_type": "execute_result"
    }
   ],
   "source": [
    "df_ship_diff_3 = df_ship_diff[df_ship_diff.seller != 'Amazon.com']\n",
    "df_ship_diff_3"
   ]
  },
  {
   "cell_type": "code",
   "execution_count": 126,
   "metadata": {},
   "outputs": [
    {
     "data": {
      "image/png": "[encoded data removed]",
      "text/plain": [
       "<Figure size 432x288 with 1 Axes>"
      ]
     },
     "metadata": {
      "needs_background": "light"
     },
     "output_type": "display_data"
    }
   ],
   "source": [
    "df_ship_diff_3['shipment_days'].plot(kind='hist', bins = 14)\n",
    "plt.savefig('ship_diff_other_bar.png')\n",
    "ship_diff_other_bar = 'ship_diff_other_bar.png'"
   ]
  },
  {
   "cell_type": "code",
   "execution_count": 127,
   "metadata": {},
   "outputs": [
    {
     "data": {
      "image/png": "[encoded data removed]",
      "text/plain": [
       "<Figure size 1080x360 with 1 Axes>"
      ]
     },
     "metadata": {
      "needs_background": "light"
     },
     "output_type": "display_data"
    }
   ],
   "source": [
    "df_ship_diff_3.plot(kind='line', x=0, y=1, figsize = (15,5))\n",
    "plt.savefig('ship_diff_other_line.png')\n",
    "ship_diff_other_line = 'ship_diff_other_line.png'"
   ]
  },
  {
   "cell_type": "code",
   "execution_count": 128,
   "metadata": {},
   "outputs": [
    {
     "data": {
      "image/png": "[encoded data removed]",
      "text/plain": [
       "<Figure size 432x288 with 1 Axes>"
      ]
     },
     "metadata": {
      "needs_background": "light"
     },
     "output_type": "display_data"
    }
   ],
   "source": [
    "plt.scatter(x=df_ship_diff_3['order_date'], y=df_ship_diff_3['shipment_days'])\n",
    "plt.title('Non-Amazon Shipment Days')\n",
    "#nodays = plt.show()\n",
    "plt.savefig('ship_diff_other_scatt.png')\n",
    "ship_diff_other_scatt = 'ship_diff_other_scatt.png'"
   ]
  },
  {
   "cell_type": "code",
   "execution_count": 129,
   "metadata": {},
   "outputs": [],
   "source": [
    "import pdfkit"
   ]
  },
  {
   "cell_type": "code",
   "execution_count": 130,
   "metadata": {},
   "outputs": [],
   "source": [
    "body = f'''\n",
    "<!DOCTYPE html>\n",
    "<html>\n",
    "<head>\n",
    "  <meta charset=\"utf-8\">\n",
    "  <title>Amazon Order History</title>\n",
    "</head>\n",
    "<body>\n",
    "    <h1>Spending</h2>\n",
    "    <p>Annual Total Spending</p>\n",
    "    <img src=\"{ann_tot_spend}\">\n",
    "    <br>\n",
    "    <p>Total Spending by Category</p>\n",
    "    <img src=\"{cat_tot_spend}\">\n",
    "    <br>\n",
    "    <p>Share of Spending by Category</p>\n",
    "    <img src=\"{share_purchase}\">  \n",
    "    <br>\n",
    "    <p>Total Spending by Seller</p>\n",
    "    <img src=\"{pie_seller}\">\n",
    "    <br>\n",
    "    <br>\n",
    "    <br>\n",
    "    <br>\n",
    "    <br>\n",
    "    <br>\n",
    "    <br>\n",
    "    <br>\n",
    "    <br>\n",
    "    <h1>Order Fulfillment</h1>\n",
    "    <p>Days to Ship All Sellers</p>\n",
    "    <img src=\"{ship_diff_all_bar}\">\n",
    "    <br>\n",
    "    <p>Days to Ship Amazon</p>\n",
    "    <img src=\"{ship_diff_amzn_bar}\">\n",
    "    <br>\n",
    "    <p>Days to Ship Other</p>\n",
    "    <img src=\"{ship_diff_other_bar}\">\n",
    "    <br>\n",
    "    <br>\n",
    "    <br>\n",
    "    <br>\n",
    "    <br>\n",
    "    <br>\n",
    "    <br>\n",
    "    <br>\n",
    "    <br>\n",
    "    <br>\n",
    "    <br>\n",
    "    <br>\n",
    "    <br>\n",
    "    <br>\n",
    "    <br>\n",
    "    <br>\n",
    "    <br>\n",
    "    <br>\n",
    "    <br>\n",
    "    <br>\n",
    "    <br>\n",
    "    <br>\n",
    "    <br>\n",
    "    <br>\n",
    "    <br>\n",
    "    <br>\n",
    "    <br>\n",
    "    <br>\n",
    "    <h1>Order Fulfillment</h1>\n",
    "    <p>Days to Ship All Sellers</p>\n",
    "    <img src=\"{ship_diff_all_scatt}\">\n",
    "    <br>\n",
    "    <p>Days to Ship Amazon</p>\n",
    "    <img src=\"{ship_diff_amzn_scatt}\"> \n",
    "    <br>\n",
    "    <p>Days to Ship Other</p>\n",
    "    <img src=\"{ship_diff_other_scatt}\"> \n",
    "    <br>\n",
    "    <br>\n",
    "    <br>\n",
    "    <br>\n",
    "    <br>\n",
    "    <br>\n",
    "    <br>\n",
    "    <br>\n",
    "    <br>\n",
    "    <br>\n",
    "    <br>\n",
    "    <br>\n",
    "    <br>\n",
    "    <br>\n",
    "    <br>\n",
    "    <br>\n",
    "    <br>\n",
    "    <br>\n",
    "    <br>\n",
    "    <br>\n",
    "    <br>\n",
    "    <br>\n",
    "    <br>\n",
    "    <br>\n",
    "    <br>\n",
    "    <br>\n",
    "    <br>\n",
    "    <h1>Order Fulfillment</h1>\n",
    "    <p>Days to Ship All Sellers</p>\n",
    "    <img src=\"{ship_diff_all_line}\">    \n",
    "    <br>\n",
    "    <p>Days to Ship Amazon</p>\n",
    "    <img src=\"{ship_diff_amzn_line}\">    \n",
    "    <br>\n",
    "    <p>Days to Ship Other</p>\n",
    "    <img src=\"{ship_diff_other_line}\">\n",
    "    <br>\n",
    "    <br>\n",
    "    <br>\n",
    "    <br>\n",
    "    <br>\n",
    "    <br>\n",
    "    <br>\n",
    "    <br>\n",
    "    <br>\n",
    "    <br>\n",
    "    <br>\n",
    "    <br>\n",
    "    <br>\n",
    "    <br>\n",
    "    <br>\n",
    "    <br>\n",
    "    <br>\n",
    "    <h1>Carriers</h1>\n",
    "    <p>Total Shipments by Carrier</p>\n",
    "    <img src=\"{carrier_num}\">\n",
    "    <br>\n",
    "    <p>Average Price of Items by Carrier</p>\n",
    "    <img src=\"{carrier_price}\">\n",
    "    <br>\n",
    "    <p>Total Shipments by Month</p>\n",
    "    <img src=\"{month_trend}\">  \n",
    "    \n",
    "</body>\n",
    "</html>'''\n"
   ]
  },
  {
   "cell_type": "code",
   "execution_count": 131,
   "metadata": {},
   "outputs": [],
   "source": [
    "with open(\"amazon_orders.html\", \"w\") as f:\n",
    "    f.write(body)"
   ]
  },
  {
   "cell_type": "code",
   "execution_count": 132,
   "metadata": {},
   "outputs": [
    {
     "name": "stdout",
     "output_type": "stream",
     "text": [
      "Loading pages (1/6)\n",
      "[>                                                           ] 0%\r",
      "[======>                                                     ] 10%\r",
      "[======>                                                     ] 10%\r",
      "[========>                                                   ] 14%\r",
      "[==========>                                                 ] 17%\r",
      "[===========>                                                ] 19%\r",
      "[=============>                                              ] 23%\r",
      "[===============>                                            ] 25%\r",
      "[================>                                           ] 27%\r",
      "[=====================>                                      ] 35%\r",
      "[========================>                                   ] 40%\r",
      "[==========================>                                 ] 44%\r",
      "[===========================>                                ] 46%\r",
      "[=============================>                              ] 49%\r",
      "[============================================================] 100%\r",
      "Counting pages (2/6)                                               \n",
      "[============================================================] Object 1 of 1\r",
      "Resolving links (4/6)                                                       \n",
      "[============================================================] Object 1 of 1\r",
      "Loading headers and footers (5/6)                                           \n",
      "Printing pages (6/6)\n",
      "[>                                                           ] Preparing\r",
      "[============>                                               ] Page 1 of 5\r",
      "[========================>                                   ] Page 2 of 5\r",
      "[====================================>                       ] Page 3 of 5\r",
      "[================================================>           ] Page 4 of 5\r",
      "[============================================================] Page 5 of 5\r",
      "Done                                                                      \n"
     ]
    },
    {
     "data": {
      "text/plain": [
       "True"
      ]
     },
     "execution_count": 132,
     "metadata": {},
     "output_type": "execute_result"
    }
   ],
   "source": [
    "#pdfkit.from_file(\"amazon_orders.html\", \"amazon_purchase_history.pdf\")"
   ]
  },
  {
   "cell_type": "code",
   "execution_count": null,
   "metadata": {},
   "outputs": [],
   "source": []
  },
  {
   "cell_type": "code",
   "execution_count": null,
   "metadata": {},
   "outputs": [],
   "source": []
  }
 ],
 "metadata": {
  "kernelspec": {
   "display_name": "Python 3",
   "language": "python",
   "name": "python3"
  },
  "language_info": {
   "codemirror_mode": {
    "name": "ipython",
    "version": 3
   },
   "file_extension": ".py",
   "mimetype": "text/x-python",
   "name": "python",
   "nbconvert_exporter": "python",
   "pygments_lexer": "ipython3",
   "version": "3.8.5"
  }
 },
 "nbformat": 4,
 "nbformat_minor": 2
}
